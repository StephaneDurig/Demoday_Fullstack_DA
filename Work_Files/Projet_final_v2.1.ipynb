{
 "cells": [
  {
   "cell_type": "markdown",
   "metadata": {},
   "source": [
    "# 1- Import du dataset"
   ]
  },
  {
   "cell_type": "markdown",
   "metadata": {},
   "source": [
    "* Import des bibliothèques"
   ]
  },
  {
   "cell_type": "code",
   "execution_count": 1,
   "metadata": {},
   "outputs": [],
   "source": [
    "import pandas as pd\n",
    "import numpy as np\n",
    "import matplotlib.pyplot as plt\n",
    "import plotly.express as px\n",
    "import re"
   ]
  },
  {
   "cell_type": "markdown",
   "metadata": {},
   "source": [
    "* *Configuration temporaire pour afficher toutes les colonnes*"
   ]
  },
  {
   "cell_type": "code",
   "execution_count": 2,
   "metadata": {},
   "outputs": [],
   "source": [
    "pd.set_option('display.max_columns', None)"
   ]
  },
  {
   "attachments": {},
   "cell_type": "markdown",
   "metadata": {},
   "source": [
    "*   Import des fichiers"
   ]
  },
  {
   "cell_type": "code",
   "execution_count": 3,
   "metadata": {},
   "outputs": [],
   "source": [
    "# !!! Ne pas oublier de mettre le projet github en public\n",
    "\n",
    "games = pd.read_csv('https://raw.githubusercontent.com/StephaneDurig/Projet-Jedha/master/Olympics_Games.csv')\n",
    "country = pd.read_csv('https://raw.githubusercontent.com/StephaneDurig/Projet-Jedha/master/Olympics_Country.csv')\n",
    "results = pd.read_csv('https://raw.githubusercontent.com/StephaneDurig/Projet-Jedha/master/Olympic_Results.csv')\n",
    "athlete = pd.read_csv('https://raw.githubusercontent.com/StephaneDurig/Projet-Jedha/master/Olympic_Athlete_Bio.csv')\n",
    "ath_event_res = pd.read_csv('https://raw.githubusercontent.com/StephaneDurig/Projet-Jedha/master/Olympic_Athlete_Event_Results.csv')\n",
    "medal = pd.read_csv('https://raw.githubusercontent.com/StephaneDurig/Projet-Jedha/master/Olympic_Games_Medal_Tally.csv')"
   ]
  },
  {
   "attachments": {},
   "cell_type": "markdown",
   "metadata": {},
   "source": [
    "*   Concaténation des fichiers"
   ]
  },
  {
   "cell_type": "code",
   "execution_count": 4,
   "metadata": {},
   "outputs": [],
   "source": [
    "df = games.merge(country, on='country_noc', how='left')\n",
    "df = df.merge(ath_event_res, on='edition_id',how='left') \n",
    "df = df.merge(athlete,on='athlete_id',how='left')"
   ]
  },
  {
   "cell_type": "markdown",
   "metadata": {},
   "source": [
    "# 2-    EDA (Exploratory Data Analysis)"
   ]
  },
  {
   "cell_type": "markdown",
   "metadata": {},
   "source": [
    ">>## 1 - Connaissance du dataset"
   ]
  },
  {
   "cell_type": "code",
   "execution_count": 5,
   "metadata": {},
   "outputs": [
    {
     "data": {
      "text/html": [
       "<div>\n",
       "<style scoped>\n",
       "    .dataframe tbody tr th:only-of-type {\n",
       "        vertical-align: middle;\n",
       "    }\n",
       "\n",
       "    .dataframe tbody tr th {\n",
       "        vertical-align: top;\n",
       "    }\n",
       "\n",
       "    .dataframe thead th {\n",
       "        text-align: right;\n",
       "    }\n",
       "</style>\n",
       "<table border=\"1\" class=\"dataframe\">\n",
       "  <thead>\n",
       "    <tr style=\"text-align: right;\">\n",
       "      <th></th>\n",
       "      <th>edition_x</th>\n",
       "      <th>edition_id</th>\n",
       "      <th>edition_url</th>\n",
       "      <th>year</th>\n",
       "      <th>city</th>\n",
       "      <th>country_flag_url</th>\n",
       "      <th>country_noc_x</th>\n",
       "      <th>start_date</th>\n",
       "      <th>end_date</th>\n",
       "      <th>competition_date</th>\n",
       "      <th>isHeld</th>\n",
       "      <th>country_x</th>\n",
       "      <th>edition_y</th>\n",
       "      <th>country_noc_y</th>\n",
       "      <th>sport</th>\n",
       "      <th>event</th>\n",
       "      <th>result_id</th>\n",
       "      <th>athlete</th>\n",
       "      <th>athlete_id</th>\n",
       "      <th>pos</th>\n",
       "      <th>medal</th>\n",
       "      <th>isTeamSport</th>\n",
       "      <th>name</th>\n",
       "      <th>sex</th>\n",
       "      <th>born</th>\n",
       "      <th>height</th>\n",
       "      <th>weight</th>\n",
       "      <th>country_y</th>\n",
       "      <th>country_noc</th>\n",
       "      <th>description</th>\n",
       "      <th>special_notes</th>\n",
       "    </tr>\n",
       "  </thead>\n",
       "  <tbody>\n",
       "    <tr>\n",
       "      <th>0</th>\n",
       "      <td>1896 Summer Olympics</td>\n",
       "      <td>1</td>\n",
       "      <td>/editions/1</td>\n",
       "      <td>1896</td>\n",
       "      <td>Athina</td>\n",
       "      <td>/images/flags/GRE.png</td>\n",
       "      <td>GRE</td>\n",
       "      <td>6 April</td>\n",
       "      <td>15 April</td>\n",
       "      <td>6 – 13 April</td>\n",
       "      <td>NaN</td>\n",
       "      <td>Greece</td>\n",
       "      <td>1896 Summer Olympics</td>\n",
       "      <td>BUL</td>\n",
       "      <td>Artistic Gymnastics</td>\n",
       "      <td>Horse Vault, Men</td>\n",
       "      <td>70002.0</td>\n",
       "      <td>Charles Champaud</td>\n",
       "      <td>31002.0</td>\n",
       "      <td>AC</td>\n",
       "      <td>na</td>\n",
       "      <td>False</td>\n",
       "      <td>Charles Champaud</td>\n",
       "      <td>Male</td>\n",
       "      <td>1865-01-01</td>\n",
       "      <td>na</td>\n",
       "      <td>na</td>\n",
       "      <td>Bulgaria</td>\n",
       "      <td>BUL</td>\n",
       "      <td>In some 1896 sources, Charles Champaud may be ...</td>\n",
       "      <td>na</td>\n",
       "    </tr>\n",
       "    <tr>\n",
       "      <th>1</th>\n",
       "      <td>1896 Summer Olympics</td>\n",
       "      <td>1</td>\n",
       "      <td>/editions/1</td>\n",
       "      <td>1896</td>\n",
       "      <td>Athina</td>\n",
       "      <td>/images/flags/GRE.png</td>\n",
       "      <td>GRE</td>\n",
       "      <td>6 April</td>\n",
       "      <td>15 April</td>\n",
       "      <td>6 – 13 April</td>\n",
       "      <td>NaN</td>\n",
       "      <td>Greece</td>\n",
       "      <td>1896 Summer Olympics</td>\n",
       "      <td>BUL</td>\n",
       "      <td>Artistic Gymnastics</td>\n",
       "      <td>Parallel Bars, Men</td>\n",
       "      <td>70006.0</td>\n",
       "      <td>Charles Champaud</td>\n",
       "      <td>31002.0</td>\n",
       "      <td>AC</td>\n",
       "      <td>na</td>\n",
       "      <td>False</td>\n",
       "      <td>Charles Champaud</td>\n",
       "      <td>Male</td>\n",
       "      <td>1865-01-01</td>\n",
       "      <td>na</td>\n",
       "      <td>na</td>\n",
       "      <td>Bulgaria</td>\n",
       "      <td>BUL</td>\n",
       "      <td>In some 1896 sources, Charles Champaud may be ...</td>\n",
       "      <td>na</td>\n",
       "    </tr>\n",
       "    <tr>\n",
       "      <th>2</th>\n",
       "      <td>1896 Summer Olympics</td>\n",
       "      <td>1</td>\n",
       "      <td>/editions/1</td>\n",
       "      <td>1896</td>\n",
       "      <td>Athina</td>\n",
       "      <td>/images/flags/GRE.png</td>\n",
       "      <td>GRE</td>\n",
       "      <td>6 April</td>\n",
       "      <td>15 April</td>\n",
       "      <td>6 – 13 April</td>\n",
       "      <td>NaN</td>\n",
       "      <td>Greece</td>\n",
       "      <td>1896 Summer Olympics</td>\n",
       "      <td>BUL</td>\n",
       "      <td>Artistic Gymnastics</td>\n",
       "      <td>Pommelled Horse, Men</td>\n",
       "      <td>70003.0</td>\n",
       "      <td>Charles Champaud</td>\n",
       "      <td>31002.0</td>\n",
       "      <td>AC</td>\n",
       "      <td>na</td>\n",
       "      <td>False</td>\n",
       "      <td>Charles Champaud</td>\n",
       "      <td>Male</td>\n",
       "      <td>1865-01-01</td>\n",
       "      <td>na</td>\n",
       "      <td>na</td>\n",
       "      <td>Bulgaria</td>\n",
       "      <td>BUL</td>\n",
       "      <td>In some 1896 sources, Charles Champaud may be ...</td>\n",
       "      <td>na</td>\n",
       "    </tr>\n",
       "    <tr>\n",
       "      <th>3</th>\n",
       "      <td>1896 Summer Olympics</td>\n",
       "      <td>1</td>\n",
       "      <td>/editions/1</td>\n",
       "      <td>1896</td>\n",
       "      <td>Athina</td>\n",
       "      <td>/images/flags/GRE.png</td>\n",
       "      <td>GRE</td>\n",
       "      <td>6 April</td>\n",
       "      <td>15 April</td>\n",
       "      <td>6 – 13 April</td>\n",
       "      <td>NaN</td>\n",
       "      <td>Greece</td>\n",
       "      <td>1896 Summer Olympics</td>\n",
       "      <td>BUL</td>\n",
       "      <td>Athletics</td>\n",
       "      <td>Pole Vault, Men</td>\n",
       "      <td>56024.0</td>\n",
       "      <td>Charles Champaud</td>\n",
       "      <td>31002.0</td>\n",
       "      <td>DNS</td>\n",
       "      <td>na</td>\n",
       "      <td>False</td>\n",
       "      <td>Charles Champaud</td>\n",
       "      <td>Male</td>\n",
       "      <td>1865-01-01</td>\n",
       "      <td>na</td>\n",
       "      <td>na</td>\n",
       "      <td>Bulgaria</td>\n",
       "      <td>BUL</td>\n",
       "      <td>In some 1896 sources, Charles Champaud may be ...</td>\n",
       "      <td>na</td>\n",
       "    </tr>\n",
       "    <tr>\n",
       "      <th>4</th>\n",
       "      <td>1896 Summer Olympics</td>\n",
       "      <td>1</td>\n",
       "      <td>/editions/1</td>\n",
       "      <td>1896</td>\n",
       "      <td>Athina</td>\n",
       "      <td>/images/flags/GRE.png</td>\n",
       "      <td>GRE</td>\n",
       "      <td>6 April</td>\n",
       "      <td>15 April</td>\n",
       "      <td>6 – 13 April</td>\n",
       "      <td>NaN</td>\n",
       "      <td>Greece</td>\n",
       "      <td>1896 Summer Olympics</td>\n",
       "      <td>AUT</td>\n",
       "      <td>Cycling Road</td>\n",
       "      <td>Road Race, Individual, Men</td>\n",
       "      <td>153005.0</td>\n",
       "      <td>Adolf Schmal</td>\n",
       "      <td>16491.0</td>\n",
       "      <td>DNS</td>\n",
       "      <td>na</td>\n",
       "      <td>False</td>\n",
       "      <td>Adolf Schmal</td>\n",
       "      <td>Male</td>\n",
       "      <td>1872-09-18</td>\n",
       "      <td>na</td>\n",
       "      <td>na</td>\n",
       "      <td>Austria</td>\n",
       "      <td>AUT</td>\n",
       "      <td>Adolf Schmal won a single Olympic title in Ath...</td>\n",
       "      <td>na</td>\n",
       "    </tr>\n",
       "  </tbody>\n",
       "</table>\n",
       "</div>"
      ],
      "text/plain": [
       "              edition_x  edition_id  edition_url  year    city  \\\n",
       "0  1896 Summer Olympics           1  /editions/1  1896  Athina   \n",
       "1  1896 Summer Olympics           1  /editions/1  1896  Athina   \n",
       "2  1896 Summer Olympics           1  /editions/1  1896  Athina   \n",
       "3  1896 Summer Olympics           1  /editions/1  1896  Athina   \n",
       "4  1896 Summer Olympics           1  /editions/1  1896  Athina   \n",
       "\n",
       "        country_flag_url country_noc_x start_date  end_date competition_date  \\\n",
       "0  /images/flags/GRE.png           GRE    6 April  15 April     6 – 13 April   \n",
       "1  /images/flags/GRE.png           GRE    6 April  15 April     6 – 13 April   \n",
       "2  /images/flags/GRE.png           GRE    6 April  15 April     6 – 13 April   \n",
       "3  /images/flags/GRE.png           GRE    6 April  15 April     6 – 13 April   \n",
       "4  /images/flags/GRE.png           GRE    6 April  15 April     6 – 13 April   \n",
       "\n",
       "  isHeld country_x             edition_y country_noc_y                sport  \\\n",
       "0    NaN    Greece  1896 Summer Olympics           BUL  Artistic Gymnastics   \n",
       "1    NaN    Greece  1896 Summer Olympics           BUL  Artistic Gymnastics   \n",
       "2    NaN    Greece  1896 Summer Olympics           BUL  Artistic Gymnastics   \n",
       "3    NaN    Greece  1896 Summer Olympics           BUL            Athletics   \n",
       "4    NaN    Greece  1896 Summer Olympics           AUT         Cycling Road   \n",
       "\n",
       "                        event  result_id           athlete  athlete_id  pos  \\\n",
       "0            Horse Vault, Men    70002.0  Charles Champaud     31002.0   AC   \n",
       "1          Parallel Bars, Men    70006.0  Charles Champaud     31002.0   AC   \n",
       "2        Pommelled Horse, Men    70003.0  Charles Champaud     31002.0   AC   \n",
       "3             Pole Vault, Men    56024.0  Charles Champaud     31002.0  DNS   \n",
       "4  Road Race, Individual, Men   153005.0      Adolf Schmal     16491.0  DNS   \n",
       "\n",
       "  medal isTeamSport              name   sex        born height weight  \\\n",
       "0    na       False  Charles Champaud  Male  1865-01-01     na     na   \n",
       "1    na       False  Charles Champaud  Male  1865-01-01     na     na   \n",
       "2    na       False  Charles Champaud  Male  1865-01-01     na     na   \n",
       "3    na       False  Charles Champaud  Male  1865-01-01     na     na   \n",
       "4    na       False      Adolf Schmal  Male  1872-09-18     na     na   \n",
       "\n",
       "   country_y country_noc                                        description  \\\n",
       "0   Bulgaria         BUL  In some 1896 sources, Charles Champaud may be ...   \n",
       "1   Bulgaria         BUL  In some 1896 sources, Charles Champaud may be ...   \n",
       "2   Bulgaria         BUL  In some 1896 sources, Charles Champaud may be ...   \n",
       "3   Bulgaria         BUL  In some 1896 sources, Charles Champaud may be ...   \n",
       "4    Austria         AUT  Adolf Schmal won a single Olympic title in Ath...   \n",
       "\n",
       "  special_notes  \n",
       "0            na  \n",
       "1            na  \n",
       "2            na  \n",
       "3            na  \n",
       "4            na  "
      ]
     },
     "execution_count": 5,
     "metadata": {},
     "output_type": "execute_result"
    }
   ],
   "source": [
    "# Affichage des 5 premières lignes\n",
    "df.head()"
   ]
  },
  {
   "cell_type": "code",
   "execution_count": 6,
   "metadata": {},
   "outputs": [
    {
     "name": "stdout",
     "output_type": "stream",
     "text": [
      "le nombre de lignes est de :  314916\n",
      "le nombre de colonnes est de :  31\n"
     ]
    }
   ],
   "source": [
    "# Affichage du nombre de lignes et de colonnes\n",
    "num_rows,num_columns = df.shape\n",
    "print(\"le nombre de lignes est de : \",num_rows)\n",
    "print(\"le nombre de colonnes est de : \",num_columns)"
   ]
  },
  {
   "cell_type": "code",
   "execution_count": 7,
   "metadata": {},
   "outputs": [
    {
     "name": "stdout",
     "output_type": "stream",
     "text": [
      "Le nombre de valeurs manquantes poar colonnes\n"
     ]
    },
    {
     "data": {
      "text/plain": [
       "edition_x                0\n",
       "edition_id               0\n",
       "edition_url              0\n",
       "year                     0\n",
       "city                     0\n",
       "country_flag_url         0\n",
       "country_noc_x            0\n",
       "start_date            3155\n",
       "end_date             10254\n",
       "competition_date         0\n",
       "isHeld              314911\n",
       "country_x                0\n",
       "edition_y                9\n",
       "country_noc_y            9\n",
       "sport                    9\n",
       "event                    9\n",
       "result_id                9\n",
       "athlete                  9\n",
       "athlete_id               9\n",
       "pos                      9\n",
       "medal                    9\n",
       "isTeamSport              9\n",
       "name                     9\n",
       "sex                      9\n",
       "born                     9\n",
       "height                   9\n",
       "weight                   9\n",
       "country_y                9\n",
       "country_noc              9\n",
       "description              9\n",
       "special_notes            9\n",
       "dtype: int64"
      ]
     },
     "execution_count": 7,
     "metadata": {},
     "output_type": "execute_result"
    }
   ],
   "source": [
    "# Calcul du nombre de valeurs manquantes ('NaN')\n",
    "print(\"Le nombre de valeurs manquantes poar colonnes\")\n",
    "df.isna().sum()"
   ]
  },
  {
   "cell_type": "code",
   "execution_count": 8,
   "metadata": {},
   "outputs": [
    {
     "name": "stdout",
     "output_type": "stream",
     "text": [
      "Il y a 11.70 % de données manquantes sur le DataFrame.\n"
     ]
    }
   ],
   "source": [
    "# Calcul du pourcentage de valeurs manquantes ( soit 'NaN' soit 'na')\n",
    "nan_percentage = df.isna().sum().sum() / (df.shape[0] * df.shape[1]) * 100\n",
    "na_percentage = (df == 'na').sum().sum() / (df.shape[0] * df.shape[1]) * 100\n",
    "\n",
    "total_percentage = nan_percentage + na_percentage\n",
    "\n",
    "# Génération de la phrase avec arrondi à 2 chiffres\n",
    "phrase = \"Il y a {:.2f} % de données manquantes sur le DataFrame.\".format(total_percentage)\n",
    "\n",
    "print(phrase)"
   ]
  },
  {
   "cell_type": "code",
   "execution_count": 9,
   "metadata": {},
   "outputs": [
    {
     "name": "stdout",
     "output_type": "stream",
     "text": [
      "Index(['edition_x', 'edition_id', 'edition_url', 'year', 'city',\n",
      "       'country_flag_url', 'country_noc_x', 'start_date', 'end_date',\n",
      "       'competition_date', 'isHeld', 'country_x', 'edition_y', 'country_noc_y',\n",
      "       'sport', 'event', 'result_id', 'athlete', 'athlete_id', 'pos', 'medal',\n",
      "       'isTeamSport', 'name', 'sex', 'born', 'height', 'weight', 'country_y',\n",
      "       'country_noc', 'description', 'special_notes'],\n",
      "      dtype='object')\n"
     ]
    }
   ],
   "source": [
    "# Edition du nom des colonnes pour une utilisation ultérieure\n",
    "print(df.columns)"
   ]
  },
  {
   "attachments": {},
   "cell_type": "markdown",
   "metadata": {},
   "source": [
    ">>## 2 - Nettoyage des données"
   ]
  },
  {
   "cell_type": "markdown",
   "metadata": {},
   "source": [
    ">>* ### PHASE 1"
   ]
  },
  {
   "cell_type": "markdown",
   "metadata": {},
   "source": [
    ">>>### Suppression"
   ]
  },
  {
   "attachments": {},
   "cell_type": "markdown",
   "metadata": {},
   "source": [
    ">>>*En analysant les données, nous nous appercevons qu'il existe les données pour les futurs JO 2024.*\n",
    "\n",
    ">>>*Cela ne représentant aucun intérêt pour notre analyse nous les supprimons.*"
   ]
  },
  {
   "cell_type": "code",
   "execution_count": 10,
   "metadata": {},
   "outputs": [],
   "source": [
    "df_phase_1= df.loc[(df['year'] <= 2022)]"
   ]
  },
  {
   "attachments": {},
   "cell_type": "markdown",
   "metadata": {},
   "source": [
    ">>>> * Suppression des colonnes non utiles à la poursuite du projet"
   ]
  },
  {
   "cell_type": "code",
   "execution_count": 11,
   "metadata": {},
   "outputs": [],
   "source": [
    "df_phase_1 = df_phase_1.drop(['edition_url',\n",
    "              'country_flag_url', \n",
    "              'start_date', \n",
    "              'end_date', \n",
    "              'isHeld',\n",
    "              'edition_y',\n",
    "              'country_noc_y',\n",
    "              'medal',\n",
    "              'name',\n",
    "              'description', \n",
    "              'special_notes'],\n",
    "              axis=1)"
   ]
  },
  {
   "attachments": {},
   "cell_type": "markdown",
   "metadata": {},
   "source": [
    ">>> ###   Rangement"
   ]
  },
  {
   "cell_type": "markdown",
   "metadata": {},
   "source": [
    ">>>> * Rangement des colonnes dans l'ordre souhaité"
   ]
  },
  {
   "cell_type": "code",
   "execution_count": 12,
   "metadata": {},
   "outputs": [
    {
     "data": {
      "text/plain": [
       "\"\\n# Methode 2\\ndf.insert(18, 'country_noc', df.pop('country_noc') )  # Insertion de la colonne à la position souhaitée\\n\""
      ]
     },
     "execution_count": 12,
     "metadata": {},
     "output_type": "execute_result"
    }
   ],
   "source": [
    "# Methode 1\n",
    "column_to_move = df_phase_1.pop('country_x')  # Extraction de la colonne à déplacer\n",
    "df_phase_1.insert(5, 'country_x', column_to_move)  # Insertion de la colonne à la position souhaitée\n",
    "\n",
    "\"\"\"\n",
    "# Methode 2\n",
    "df.insert(18, 'country_noc', df.pop('country_noc') )  # Insertion de la colonne à la position souhaitée\n",
    "\"\"\""
   ]
  },
  {
   "attachments": {},
   "cell_type": "markdown",
   "metadata": {},
   "source": [
    ">>>>* Renommage des colonnes"
   ]
  },
  {
   "cell_type": "code",
   "execution_count": 13,
   "metadata": {},
   "outputs": [],
   "source": [
    "# Créer un dictionnaire de mapping des noms de colonnes\n",
    "new_columns = {\n",
    "    'edition_x' : 'edition',\n",
    "    'edition_id' : 'ed_id',\n",
    "    'year' : 'ed_year',\n",
    "    'city' : 'ed_city',\n",
    "    'country_noc_x' : 'ed_noc',\n",
    "    'country_x' : 'ed_country',\n",
    "    'athlete_id' : 'athl_id',\n",
    "    'country_noc' : 'athl_noc',\n",
    "    'country_y' : 'athl_country'\n",
    "}\n",
    "# Renommer les colonnes du DataFrame\n",
    "df_phase_1 = df_phase_1.rename(columns=new_columns)"
   ]
  },
  {
   "attachments": {},
   "cell_type": "markdown",
   "metadata": {},
   "source": [
    ">>>>* Visualisation du résultat"
   ]
  },
  {
   "cell_type": "code",
   "execution_count": 14,
   "metadata": {},
   "outputs": [
    {
     "data": {
      "text/html": [
       "<div>\n",
       "<style scoped>\n",
       "    .dataframe tbody tr th:only-of-type {\n",
       "        vertical-align: middle;\n",
       "    }\n",
       "\n",
       "    .dataframe tbody tr th {\n",
       "        vertical-align: top;\n",
       "    }\n",
       "\n",
       "    .dataframe thead th {\n",
       "        text-align: right;\n",
       "    }\n",
       "</style>\n",
       "<table border=\"1\" class=\"dataframe\">\n",
       "  <thead>\n",
       "    <tr style=\"text-align: right;\">\n",
       "      <th></th>\n",
       "      <th>edition</th>\n",
       "      <th>ed_id</th>\n",
       "      <th>ed_year</th>\n",
       "      <th>ed_city</th>\n",
       "      <th>ed_noc</th>\n",
       "      <th>ed_country</th>\n",
       "      <th>competition_date</th>\n",
       "      <th>sport</th>\n",
       "      <th>event</th>\n",
       "      <th>result_id</th>\n",
       "      <th>athlete</th>\n",
       "      <th>athl_id</th>\n",
       "      <th>pos</th>\n",
       "      <th>isTeamSport</th>\n",
       "      <th>sex</th>\n",
       "      <th>born</th>\n",
       "      <th>height</th>\n",
       "      <th>weight</th>\n",
       "      <th>athl_country</th>\n",
       "      <th>athl_noc</th>\n",
       "    </tr>\n",
       "  </thead>\n",
       "  <tbody>\n",
       "    <tr>\n",
       "      <th>0</th>\n",
       "      <td>1896 Summer Olympics</td>\n",
       "      <td>1</td>\n",
       "      <td>1896</td>\n",
       "      <td>Athina</td>\n",
       "      <td>GRE</td>\n",
       "      <td>Greece</td>\n",
       "      <td>6 – 13 April</td>\n",
       "      <td>Artistic Gymnastics</td>\n",
       "      <td>Horse Vault, Men</td>\n",
       "      <td>70002.0</td>\n",
       "      <td>Charles Champaud</td>\n",
       "      <td>31002.0</td>\n",
       "      <td>AC</td>\n",
       "      <td>False</td>\n",
       "      <td>Male</td>\n",
       "      <td>1865-01-01</td>\n",
       "      <td>na</td>\n",
       "      <td>na</td>\n",
       "      <td>Bulgaria</td>\n",
       "      <td>BUL</td>\n",
       "    </tr>\n",
       "    <tr>\n",
       "      <th>1</th>\n",
       "      <td>1896 Summer Olympics</td>\n",
       "      <td>1</td>\n",
       "      <td>1896</td>\n",
       "      <td>Athina</td>\n",
       "      <td>GRE</td>\n",
       "      <td>Greece</td>\n",
       "      <td>6 – 13 April</td>\n",
       "      <td>Artistic Gymnastics</td>\n",
       "      <td>Parallel Bars, Men</td>\n",
       "      <td>70006.0</td>\n",
       "      <td>Charles Champaud</td>\n",
       "      <td>31002.0</td>\n",
       "      <td>AC</td>\n",
       "      <td>False</td>\n",
       "      <td>Male</td>\n",
       "      <td>1865-01-01</td>\n",
       "      <td>na</td>\n",
       "      <td>na</td>\n",
       "      <td>Bulgaria</td>\n",
       "      <td>BUL</td>\n",
       "    </tr>\n",
       "    <tr>\n",
       "      <th>2</th>\n",
       "      <td>1896 Summer Olympics</td>\n",
       "      <td>1</td>\n",
       "      <td>1896</td>\n",
       "      <td>Athina</td>\n",
       "      <td>GRE</td>\n",
       "      <td>Greece</td>\n",
       "      <td>6 – 13 April</td>\n",
       "      <td>Artistic Gymnastics</td>\n",
       "      <td>Pommelled Horse, Men</td>\n",
       "      <td>70003.0</td>\n",
       "      <td>Charles Champaud</td>\n",
       "      <td>31002.0</td>\n",
       "      <td>AC</td>\n",
       "      <td>False</td>\n",
       "      <td>Male</td>\n",
       "      <td>1865-01-01</td>\n",
       "      <td>na</td>\n",
       "      <td>na</td>\n",
       "      <td>Bulgaria</td>\n",
       "      <td>BUL</td>\n",
       "    </tr>\n",
       "    <tr>\n",
       "      <th>3</th>\n",
       "      <td>1896 Summer Olympics</td>\n",
       "      <td>1</td>\n",
       "      <td>1896</td>\n",
       "      <td>Athina</td>\n",
       "      <td>GRE</td>\n",
       "      <td>Greece</td>\n",
       "      <td>6 – 13 April</td>\n",
       "      <td>Athletics</td>\n",
       "      <td>Pole Vault, Men</td>\n",
       "      <td>56024.0</td>\n",
       "      <td>Charles Champaud</td>\n",
       "      <td>31002.0</td>\n",
       "      <td>DNS</td>\n",
       "      <td>False</td>\n",
       "      <td>Male</td>\n",
       "      <td>1865-01-01</td>\n",
       "      <td>na</td>\n",
       "      <td>na</td>\n",
       "      <td>Bulgaria</td>\n",
       "      <td>BUL</td>\n",
       "    </tr>\n",
       "    <tr>\n",
       "      <th>4</th>\n",
       "      <td>1896 Summer Olympics</td>\n",
       "      <td>1</td>\n",
       "      <td>1896</td>\n",
       "      <td>Athina</td>\n",
       "      <td>GRE</td>\n",
       "      <td>Greece</td>\n",
       "      <td>6 – 13 April</td>\n",
       "      <td>Cycling Road</td>\n",
       "      <td>Road Race, Individual, Men</td>\n",
       "      <td>153005.0</td>\n",
       "      <td>Adolf Schmal</td>\n",
       "      <td>16491.0</td>\n",
       "      <td>DNS</td>\n",
       "      <td>False</td>\n",
       "      <td>Male</td>\n",
       "      <td>1872-09-18</td>\n",
       "      <td>na</td>\n",
       "      <td>na</td>\n",
       "      <td>Austria</td>\n",
       "      <td>AUT</td>\n",
       "    </tr>\n",
       "  </tbody>\n",
       "</table>\n",
       "</div>"
      ],
      "text/plain": [
       "                edition  ed_id  ed_year ed_city ed_noc ed_country  \\\n",
       "0  1896 Summer Olympics      1     1896  Athina    GRE     Greece   \n",
       "1  1896 Summer Olympics      1     1896  Athina    GRE     Greece   \n",
       "2  1896 Summer Olympics      1     1896  Athina    GRE     Greece   \n",
       "3  1896 Summer Olympics      1     1896  Athina    GRE     Greece   \n",
       "4  1896 Summer Olympics      1     1896  Athina    GRE     Greece   \n",
       "\n",
       "  competition_date                sport                       event  \\\n",
       "0     6 – 13 April  Artistic Gymnastics            Horse Vault, Men   \n",
       "1     6 – 13 April  Artistic Gymnastics          Parallel Bars, Men   \n",
       "2     6 – 13 April  Artistic Gymnastics        Pommelled Horse, Men   \n",
       "3     6 – 13 April            Athletics             Pole Vault, Men   \n",
       "4     6 – 13 April         Cycling Road  Road Race, Individual, Men   \n",
       "\n",
       "   result_id           athlete  athl_id  pos isTeamSport   sex        born  \\\n",
       "0    70002.0  Charles Champaud  31002.0   AC       False  Male  1865-01-01   \n",
       "1    70006.0  Charles Champaud  31002.0   AC       False  Male  1865-01-01   \n",
       "2    70003.0  Charles Champaud  31002.0   AC       False  Male  1865-01-01   \n",
       "3    56024.0  Charles Champaud  31002.0  DNS       False  Male  1865-01-01   \n",
       "4   153005.0      Adolf Schmal  16491.0  DNS       False  Male  1872-09-18   \n",
       "\n",
       "  height weight athl_country athl_noc  \n",
       "0     na     na     Bulgaria      BUL  \n",
       "1     na     na     Bulgaria      BUL  \n",
       "2     na     na     Bulgaria      BUL  \n",
       "3     na     na     Bulgaria      BUL  \n",
       "4     na     na      Austria      AUT  "
      ]
     },
     "execution_count": 14,
     "metadata": {},
     "output_type": "execute_result"
    }
   ],
   "source": [
    "df_phase_1.head()"
   ]
  },
  {
   "cell_type": "markdown",
   "metadata": {},
   "source": [
    ">>>### Modifications"
   ]
  },
  {
   "attachments": {},
   "cell_type": "markdown",
   "metadata": {},
   "source": [
    ">>>>* Remplacement des valeurs 'na' par des 'NaN'"
   ]
  },
  {
   "cell_type": "code",
   "execution_count": 15,
   "metadata": {},
   "outputs": [],
   "source": [
    "def replace_na(value):\n",
    "    if value == 'na':\n",
    "        return np.nan\n",
    "    else:\n",
    "        return value\n",
    "    \n",
    "df_phase_1=df_phase_1.applymap(replace_na)"
   ]
  },
  {
   "attachments": {},
   "cell_type": "markdown",
   "metadata": {},
   "source": [
    ">>>>* Détermination des types de données"
   ]
  },
  {
   "cell_type": "code",
   "execution_count": 16,
   "metadata": {},
   "outputs": [
    {
     "name": "stdout",
     "output_type": "stream",
     "text": [
      "<class 'pandas.core.frame.DataFrame'>\n",
      "Int64Index: 314912 entries, 0 to 314915\n",
      "Data columns (total 20 columns):\n",
      " #   Column            Non-Null Count   Dtype  \n",
      "---  ------            --------------   -----  \n",
      " 0   edition           314912 non-null  object \n",
      " 1   ed_id             314912 non-null  int64  \n",
      " 2   ed_year           314912 non-null  int64  \n",
      " 3   ed_city           314912 non-null  object \n",
      " 4   ed_noc            314912 non-null  object \n",
      " 5   ed_country        314912 non-null  object \n",
      " 6   competition_date  314912 non-null  object \n",
      " 7   sport             314907 non-null  object \n",
      " 8   event             314907 non-null  object \n",
      " 9   result_id         314907 non-null  float64\n",
      " 10  athlete           314907 non-null  object \n",
      " 11  athl_id           314907 non-null  float64\n",
      " 12  pos               314907 non-null  object \n",
      " 13  isTeamSport       314907 non-null  object \n",
      " 14  sex               314907 non-null  object \n",
      " 15  born              309152 non-null  object \n",
      " 16  height            228041 non-null  object \n",
      " 17  weight            228041 non-null  object \n",
      " 18  athl_country      314907 non-null  object \n",
      " 19  athl_noc          314907 non-null  object \n",
      "dtypes: float64(2), int64(2), object(16)\n",
      "memory usage: 50.5+ MB\n"
     ]
    }
   ],
   "source": [
    "df_phase_1.info()"
   ]
  },
  {
   "attachments": {},
   "cell_type": "markdown",
   "metadata": {},
   "source": [
    ">>>>>* transformation des colonnes 'height' et 'weight' en type float"
   ]
  },
  {
   "cell_type": "code",
   "execution_count": 17,
   "metadata": {},
   "outputs": [],
   "source": [
    "df_phase_1['height'] = df_phase_1['height'].astype(float)"
   ]
  },
  {
   "cell_type": "markdown",
   "metadata": {},
   "source": [
    ">>>>>* *On s'apperçoit qu'il y a un problème avec la colonne 'weight' nous l'analysons donc seule*"
   ]
  },
  {
   "cell_type": "code",
   "execution_count": 18,
   "metadata": {},
   "outputs": [
    {
     "data": {
      "text/plain": [
       "array([nan, '64', '106', '70', '56', '73', '45', '102', '80', '66', '69',\n",
       "       '72', '81', '78', '71', '85', '83', '61', '59', '75', '62', '87',\n",
       "       '79', '77', '68', '74', '95', '67', '60', '88', '86', '58', '65',\n",
       "       '89', '51', '90', '53', '43', '54', '94', '91', '57', '84', '82',\n",
       "       '115', '100', '49', '105', '76', '63', '60-70', '85-90', '82-86',\n",
       "       '97', '55', '52', '125', '99', '98', '47', '93', '109', '57-58',\n",
       "       '54-57', '90-95', '60-68', '82-102', '120', '96', '50', '67-75',\n",
       "       '75-80', '108', '92', '117', '72-74', '58-60', '90-105', '104',\n",
       "       '58-62', '67-74', '83-90', '56-65', '61-67', '66-76', '90-100',\n",
       "       '113', '137', '59-60', '63-65', '120-140', '56-62', '68-87',\n",
       "       '56-66', '66-74', '95-105', '66, 67', '74, 75', '110', '44',\n",
       "       '62-66', '56-60', '66-68', '69-71', '101', '57-67', '78-85', '48',\n",
       "       '41', '114', '138', '62-64', '65-74', '80-92', '62-68', '82-84',\n",
       "       '46', '40', '126', '107', '67-69', '74-75', '65-68', '78-82',\n",
       "       '103', '85-87', '53-55', '75-84', '73-76', '59-62', '67-68',\n",
       "       '70-72', '55-58', '63-64', '80-82', '62-63', '75-76', '76-78',\n",
       "       '64-66', '52-55', '62-67', '100-110', '52-60', '74, 81', '82-88',\n",
       "       '73-75', '90-121', '139', '128', '42', '59-67', '52-53', '59-65',\n",
       "       '70-74', '69-70', '68-70', '80-85', '71-73', '53-57', '52-54',\n",
       "       '90-94', '57-59', '84-86', '51-58', '63-70', '74-78', '60-62',\n",
       "       '64-65', '81-82', '55-60', '100-113', '57-62', '80-90', '57-64',\n",
       "       '121-126', '82-90', '116', '82-89', '111', '118', '67-81',\n",
       "       '110-123', '132', '133', '89, 115', '88-89', '62-65', '74-76',\n",
       "       '65-67', '84-88', '73-80', '79-88', '62-70', '62-74', '75-82',\n",
       "       '66-67', '130-132', '75-81', '60-67', '74-82', '141', '112', '28',\n",
       "       '81-83', '115-120', '136', '86-89', '117-121', '65-70', '63-67',\n",
       "       '84-92', '95-102', '83-95', '51-57', '51-61', '60-64', '67-70',\n",
       "       '78-80', '73-79', '86-88', '90-92', '82-92', '57-68', '87-100',\n",
       "       '100-106', '52-58', '55-56', '68-73', '74-81', '140', '81-89',\n",
       "       '124', '121', '127', '87-89', '64-67', '125-136', '130', '123',\n",
       "       '38', '70-73', '78-88', '77-80', '77-79', '105-110', '71-74',\n",
       "       '80-140', '76-82', '63-66', '66-70', '68-72', '75-77', '75-92',\n",
       "       '55-62', '70-78', '97-103', '52-62', '163', '122', '65-66',\n",
       "       '63-68', '79-82', '75-79', '79-80', '78-79', '54-56', '60-61',\n",
       "       '110-115', '130-140', '87-90', '110-116', '119', '134', '131',\n",
       "       '144', '90-110', '81-98', '116-130', '146', '106-111', '142-151',\n",
       "       '161', '62-100', '59-61', '75-78', '77-78', '115-130', '116-132',\n",
       "       '106-112', '84-85', '71-75', '80-86', '95-97', '46-50', '68-75',\n",
       "       '75-85', '108-140', '140-152', '48-52', '68-74', '110-118', '148',\n",
       "       '150', '39', '160', '82-98', '58-73', '182', '135', '37', '154',\n",
       "       '70-76', '120-125', '98-103', '92-96', '77-82', '90-102', '63-71',\n",
       "       '75-83', '64-73', '93-100', '98-102', '68-76', '74-83', '82-120',\n",
       "       '74-86', '51-52', '109-125', '30', '25', '33', '34', '35', '74-80',\n",
       "       '106-110', '106-108', '95-98', '90-93', '72-75', '48-54', '54-60',\n",
       "       '76-77', '72-76', '70-80', '86-94', '61-65', '70-82', '83-104',\n",
       "       '48-58', '48-82', '36', '190', '145', '32', '81-90', '88-92',\n",
       "       '94-86', '55-57', '80-83', '73-74', '87-92', '107-118', '88-90',\n",
       "       '86-90', '60-65', '54-58', '60-75', '48-65', '52-72', '143',\n",
       "       '48-57', '142', '31', '82-87', '130-141', '74-77', '108-152',\n",
       "       '157-165', '68-88', '52-82', '80-81', '100-105', '95-115',\n",
       "       '82-100', '48-50', '83-91', '84-56', '67-76', '52-57', '50-62',\n",
       "       '104-128', '89-103', '129', '102-106', '97-105', '52-56',\n",
       "       '118-138', '117-125', '95-99', '78-90', '70-75', '82-85', '72-80',\n",
       "       '90-108', '108-112', '48-63', '74-90', '109-141', '75-91', '81-84',\n",
       "       '88-95', '89-97', '89, 107', '57-61', '126-133', '82-93',\n",
       "       '124, 131', '166-187', '76-94', '149-163', '58-64', '53-56',\n",
       "       '70-77', '87-93', '83-93', '70-83', '78-81', '95-113', '58-68',\n",
       "       '52-59', '85-86', '67-72', '59-64', '64-68', '64-69', '69-77',\n",
       "       '91-93', '165-175', '77,5', '69-76', '142-158', '132-145',\n",
       "       '97-104', '149', '152', '68-69', '105-109', '92-94', '93-104',\n",
       "       '62-73', '69-80', '147', '147-163', '102, 105', '57-63', '48-49',\n",
       "       '70-71', '78-103', '104-105', '165', '94-103', '130-133',\n",
       "       '125-129', '60-63', '105-113', '67, 72', '140-142', '127-129',\n",
       "       '135-140', '119-125', '180', '66-73', '92-95', '77-85', '159-163',\n",
       "       '107-136', '158-168', '67, 71', '132-135', '76, 83', '95-110',\n",
       "       '99-101', '60-66', '125-127', '175', '105-114', '98-105', '68, 88',\n",
       "       '167', '80, 86', '53-58', '62-69', '178', '198', '58, 68',\n",
       "       '210-218', '69-75', '105-132', '151', '68, 80', '54-64', '156',\n",
       "       '78, 80', '63, 66', '67, 69', '100, 104', '158', '86, 90', '170',\n",
       "       '84-96', '64-75', '73-77', '101-125', '49-53', '155-160', '55-59',\n",
       "       '62, 67', '76-80', '155', '70-87', '56\\xa0', '72\\xa0', '81-85',\n",
       "       '58-63', '68-71', '53-54', '61-62', '56-58', '79-83', '79-81',\n",
       "       '51-53', '83-87', '54-55', '80-87', '88-96', '65-72', '80-84',\n",
       "       '85-88', '86-92', '81-87', '50-52', '87-91', '85-94', '89-92',\n",
       "       '56-57', '95-100', '49-50', '85-92', '88-94', '83-86', '91-96',\n",
       "       '91-95', '72-79', '92-97', '76-81', '65-71', '77-81', '88-91',\n",
       "       '100-104', '95-103', '104-107', '70-84', '75-89', '90-97', '89-96',\n",
       "       '105-111', '91-94', '85-89', '90-96', '83-88', '81-86', '79-86',\n",
       "       '71-77'], dtype=object)"
      ]
     },
     "execution_count": 18,
     "metadata": {},
     "output_type": "execute_result"
    }
   ],
   "source": [
    "df_phase_1['weight'].unique()"
   ]
  },
  {
   "attachments": {},
   "cell_type": "markdown",
   "metadata": {},
   "source": [
    ">>>>>* *Création d'une fonction pour régler le problème*"
   ]
  },
  {
   "cell_type": "code",
   "execution_count": 19,
   "metadata": {},
   "outputs": [],
   "source": [
    "def convert_range_to_value(value):\n",
    "    # Vérifier si la valeur est nulle (NaN)\n",
    "    if pd.isnull(value):\n",
    "        return value\n",
    "\n",
    "    # Vérifier si la valeur est de type float\n",
    "    if isinstance(value, float):\n",
    "        return value\n",
    "\n",
    "    # Si la valeur contient un tiret \"-\", il s'agit d'une plage de valeurs\n",
    "    if '-' in value:\n",
    "        # Diviser la valeur en deux parties en utilisant le tiret comme séparateur\n",
    "        values = value.split('-')\n",
    "        # Calculer la valeur moyenne de la plage en convertissant chaque partie en float\n",
    "        return np.mean([float(val) for val in values])\n",
    "\n",
    "    # Si la valeur contient une virgule \",\", prendre la moyenne comme valeur\n",
    "    elif ',' in value:\n",
    "        values = value.split(',')\n",
    "        return np.mean([float(val) for val in values])\n",
    "\n",
    "    # Si aucun des cas précédents ne s'applique, la valeur est déjà un nombre\n",
    "    else:\n",
    "        return float(value)\n",
    "\n",
    "# Exécution de la fonction\n",
    "df_phase_1['weight'] = df_phase_1['weight'].apply(convert_range_to_value)\n"
   ]
  },
  {
   "cell_type": "markdown",
   "metadata": {},
   "source": [
    ">>>>>* *Visualisation du résultat*"
   ]
  },
  {
   "cell_type": "code",
   "execution_count": 20,
   "metadata": {},
   "outputs": [
    {
     "data": {
      "text/plain": [
       "array([  nan,  64. , 106. ,  70. ,  56. ,  73. ,  45. , 102. ,  80. ,\n",
       "        66. ,  69. ,  72. ,  81. ,  78. ,  71. ,  85. ,  83. ,  61. ,\n",
       "        59. ,  75. ,  62. ,  87. ,  79. ,  77. ,  68. ,  74. ,  95. ,\n",
       "        67. ,  60. ,  88. ,  86. ,  58. ,  65. ,  89. ,  51. ,  90. ,\n",
       "        53. ,  43. ,  54. ,  94. ,  91. ,  57. ,  84. ,  82. , 115. ,\n",
       "       100. ,  49. , 105. ,  76. ,  63. ,  87.5,  97. ,  55. ,  52. ,\n",
       "       125. ,  99. ,  98. ,  47. ,  93. , 109. ,  57.5,  55.5,  92.5,\n",
       "        92. , 120. ,  96. ,  50. ,  77.5, 108. , 117. ,  97.5, 104. ,\n",
       "        70.5,  86.5,  60.5, 113. , 137. ,  59.5, 130. ,  66.5,  74.5,\n",
       "       110. ,  44. , 101. ,  81.5,  48. ,  41. , 114. , 138. ,  69.5,\n",
       "        46. ,  40. , 126. , 107. , 103. ,  79.5,  67.5,  56.5,  63.5,\n",
       "        62.5,  75.5,  53.5,  64.5, 105.5, 139. , 128. ,  42. ,  52.5,\n",
       "        82.5,  54.5, 106.5, 123.5, 116. ,  85.5, 111. , 118. , 116.5,\n",
       "       132. , 133. ,  88.5,  76.5,  83.5,  78.5, 131. , 141. , 112. ,\n",
       "        28. , 117.5, 136. , 119. ,  98.5,  68.5,  93.5, 140. , 124. ,\n",
       "       121. , 127. ,  65.5, 130.5, 123. ,  38. ,  71.5, 107.5,  72.5,\n",
       "        58.5, 163. , 122. ,  80.5, 112.5, 135. , 134. , 144. ,  89.5,\n",
       "       146. , 108.5, 146.5, 161. , 122.5,  84.5, 148. , 150. ,  39. ,\n",
       "       160. , 182. ,  37. , 154. , 100.5,  96.5,  51.5,  30. ,  25. ,\n",
       "        33. ,  34. ,  35. ,  91.5,  73.5,  36. , 190. , 145. ,  32. ,\n",
       "       143. , 142. ,  31. , 135.5, 102.5, 129. , 129.5, 127.5, 176.5,\n",
       "       156. ,  61.5, 170. , 138.5, 149. , 152. , 147. , 155. , 103.5,\n",
       "        48.5,  90.5, 104.5, 165. , 131.5, 137.5, 180. , 121.5, 133.5,\n",
       "       175. , 109.5, 101.5, 167. , 178. , 198. , 214. , 118.5, 151. ,\n",
       "       158. , 157.5,  49.5,  94.5])"
      ]
     },
     "execution_count": 20,
     "metadata": {},
     "output_type": "execute_result"
    }
   ],
   "source": [
    "df_phase_1['weight'].unique()"
   ]
  },
  {
   "attachments": {},
   "cell_type": "markdown",
   "metadata": {},
   "source": [
    ">>>>* *Split de la colonne edition pour créer une colonne contenant le type de JO*"
   ]
  },
  {
   "cell_type": "code",
   "execution_count": 21,
   "metadata": {},
   "outputs": [],
   "source": [
    "# Fonction pour extraire le deuxième mot de l'édition (si il y a au moins 2 mots)\n",
    "def extract_second_word(edition):\n",
    "    words = edition.split(' ')\n",
    "    if len(words) >= 2:\n",
    "        return words[1]\n",
    "    else:\n",
    "        return None\n",
    "\n",
    "# Créer la colonne 'ed_type'\n",
    "df_phase_1['ed_type'] = df_phase_1['edition'].apply(extract_second_word)\n",
    "\n",
    "# Insertion de la colonne à la position souhaitée\n",
    "df_phase_1.insert(3, 'ed_type', df_phase_1.pop('ed_type') )  "
   ]
  },
  {
   "cell_type": "code",
   "execution_count": 22,
   "metadata": {},
   "outputs": [
    {
     "data": {
      "text/html": [
       "<div>\n",
       "<style scoped>\n",
       "    .dataframe tbody tr th:only-of-type {\n",
       "        vertical-align: middle;\n",
       "    }\n",
       "\n",
       "    .dataframe tbody tr th {\n",
       "        vertical-align: top;\n",
       "    }\n",
       "\n",
       "    .dataframe thead th {\n",
       "        text-align: right;\n",
       "    }\n",
       "</style>\n",
       "<table border=\"1\" class=\"dataframe\">\n",
       "  <thead>\n",
       "    <tr style=\"text-align: right;\">\n",
       "      <th></th>\n",
       "      <th>edition</th>\n",
       "      <th>ed_id</th>\n",
       "      <th>ed_year</th>\n",
       "      <th>ed_type</th>\n",
       "      <th>ed_city</th>\n",
       "      <th>ed_noc</th>\n",
       "      <th>ed_country</th>\n",
       "      <th>competition_date</th>\n",
       "      <th>sport</th>\n",
       "      <th>event</th>\n",
       "      <th>result_id</th>\n",
       "      <th>athlete</th>\n",
       "      <th>athl_id</th>\n",
       "      <th>pos</th>\n",
       "      <th>isTeamSport</th>\n",
       "      <th>sex</th>\n",
       "      <th>born</th>\n",
       "      <th>height</th>\n",
       "      <th>weight</th>\n",
       "      <th>athl_country</th>\n",
       "      <th>athl_noc</th>\n",
       "    </tr>\n",
       "  </thead>\n",
       "  <tbody>\n",
       "    <tr>\n",
       "      <th>0</th>\n",
       "      <td>1896 Summer Olympics</td>\n",
       "      <td>1</td>\n",
       "      <td>1896</td>\n",
       "      <td>Summer</td>\n",
       "      <td>Athina</td>\n",
       "      <td>GRE</td>\n",
       "      <td>Greece</td>\n",
       "      <td>6 – 13 April</td>\n",
       "      <td>Artistic Gymnastics</td>\n",
       "      <td>Horse Vault, Men</td>\n",
       "      <td>70002.0</td>\n",
       "      <td>Charles Champaud</td>\n",
       "      <td>31002.0</td>\n",
       "      <td>AC</td>\n",
       "      <td>False</td>\n",
       "      <td>Male</td>\n",
       "      <td>1865-01-01</td>\n",
       "      <td>NaN</td>\n",
       "      <td>NaN</td>\n",
       "      <td>Bulgaria</td>\n",
       "      <td>BUL</td>\n",
       "    </tr>\n",
       "    <tr>\n",
       "      <th>1</th>\n",
       "      <td>1896 Summer Olympics</td>\n",
       "      <td>1</td>\n",
       "      <td>1896</td>\n",
       "      <td>Summer</td>\n",
       "      <td>Athina</td>\n",
       "      <td>GRE</td>\n",
       "      <td>Greece</td>\n",
       "      <td>6 – 13 April</td>\n",
       "      <td>Artistic Gymnastics</td>\n",
       "      <td>Parallel Bars, Men</td>\n",
       "      <td>70006.0</td>\n",
       "      <td>Charles Champaud</td>\n",
       "      <td>31002.0</td>\n",
       "      <td>AC</td>\n",
       "      <td>False</td>\n",
       "      <td>Male</td>\n",
       "      <td>1865-01-01</td>\n",
       "      <td>NaN</td>\n",
       "      <td>NaN</td>\n",
       "      <td>Bulgaria</td>\n",
       "      <td>BUL</td>\n",
       "    </tr>\n",
       "    <tr>\n",
       "      <th>2</th>\n",
       "      <td>1896 Summer Olympics</td>\n",
       "      <td>1</td>\n",
       "      <td>1896</td>\n",
       "      <td>Summer</td>\n",
       "      <td>Athina</td>\n",
       "      <td>GRE</td>\n",
       "      <td>Greece</td>\n",
       "      <td>6 – 13 April</td>\n",
       "      <td>Artistic Gymnastics</td>\n",
       "      <td>Pommelled Horse, Men</td>\n",
       "      <td>70003.0</td>\n",
       "      <td>Charles Champaud</td>\n",
       "      <td>31002.0</td>\n",
       "      <td>AC</td>\n",
       "      <td>False</td>\n",
       "      <td>Male</td>\n",
       "      <td>1865-01-01</td>\n",
       "      <td>NaN</td>\n",
       "      <td>NaN</td>\n",
       "      <td>Bulgaria</td>\n",
       "      <td>BUL</td>\n",
       "    </tr>\n",
       "    <tr>\n",
       "      <th>3</th>\n",
       "      <td>1896 Summer Olympics</td>\n",
       "      <td>1</td>\n",
       "      <td>1896</td>\n",
       "      <td>Summer</td>\n",
       "      <td>Athina</td>\n",
       "      <td>GRE</td>\n",
       "      <td>Greece</td>\n",
       "      <td>6 – 13 April</td>\n",
       "      <td>Athletics</td>\n",
       "      <td>Pole Vault, Men</td>\n",
       "      <td>56024.0</td>\n",
       "      <td>Charles Champaud</td>\n",
       "      <td>31002.0</td>\n",
       "      <td>DNS</td>\n",
       "      <td>False</td>\n",
       "      <td>Male</td>\n",
       "      <td>1865-01-01</td>\n",
       "      <td>NaN</td>\n",
       "      <td>NaN</td>\n",
       "      <td>Bulgaria</td>\n",
       "      <td>BUL</td>\n",
       "    </tr>\n",
       "    <tr>\n",
       "      <th>4</th>\n",
       "      <td>1896 Summer Olympics</td>\n",
       "      <td>1</td>\n",
       "      <td>1896</td>\n",
       "      <td>Summer</td>\n",
       "      <td>Athina</td>\n",
       "      <td>GRE</td>\n",
       "      <td>Greece</td>\n",
       "      <td>6 – 13 April</td>\n",
       "      <td>Cycling Road</td>\n",
       "      <td>Road Race, Individual, Men</td>\n",
       "      <td>153005.0</td>\n",
       "      <td>Adolf Schmal</td>\n",
       "      <td>16491.0</td>\n",
       "      <td>DNS</td>\n",
       "      <td>False</td>\n",
       "      <td>Male</td>\n",
       "      <td>1872-09-18</td>\n",
       "      <td>NaN</td>\n",
       "      <td>NaN</td>\n",
       "      <td>Austria</td>\n",
       "      <td>AUT</td>\n",
       "    </tr>\n",
       "  </tbody>\n",
       "</table>\n",
       "</div>"
      ],
      "text/plain": [
       "                edition  ed_id  ed_year ed_type ed_city ed_noc ed_country  \\\n",
       "0  1896 Summer Olympics      1     1896  Summer  Athina    GRE     Greece   \n",
       "1  1896 Summer Olympics      1     1896  Summer  Athina    GRE     Greece   \n",
       "2  1896 Summer Olympics      1     1896  Summer  Athina    GRE     Greece   \n",
       "3  1896 Summer Olympics      1     1896  Summer  Athina    GRE     Greece   \n",
       "4  1896 Summer Olympics      1     1896  Summer  Athina    GRE     Greece   \n",
       "\n",
       "  competition_date                sport                       event  \\\n",
       "0     6 – 13 April  Artistic Gymnastics            Horse Vault, Men   \n",
       "1     6 – 13 April  Artistic Gymnastics          Parallel Bars, Men   \n",
       "2     6 – 13 April  Artistic Gymnastics        Pommelled Horse, Men   \n",
       "3     6 – 13 April            Athletics             Pole Vault, Men   \n",
       "4     6 – 13 April         Cycling Road  Road Race, Individual, Men   \n",
       "\n",
       "   result_id           athlete  athl_id  pos isTeamSport   sex        born  \\\n",
       "0    70002.0  Charles Champaud  31002.0   AC       False  Male  1865-01-01   \n",
       "1    70006.0  Charles Champaud  31002.0   AC       False  Male  1865-01-01   \n",
       "2    70003.0  Charles Champaud  31002.0   AC       False  Male  1865-01-01   \n",
       "3    56024.0  Charles Champaud  31002.0  DNS       False  Male  1865-01-01   \n",
       "4   153005.0      Adolf Schmal  16491.0  DNS       False  Male  1872-09-18   \n",
       "\n",
       "   height  weight athl_country athl_noc  \n",
       "0     NaN     NaN     Bulgaria      BUL  \n",
       "1     NaN     NaN     Bulgaria      BUL  \n",
       "2     NaN     NaN     Bulgaria      BUL  \n",
       "3     NaN     NaN     Bulgaria      BUL  \n",
       "4     NaN     NaN      Austria      AUT  "
      ]
     },
     "execution_count": 22,
     "metadata": {},
     "output_type": "execute_result"
    }
   ],
   "source": [
    "# Visualisation du résultat\n",
    "df_phase_1.head()"
   ]
  },
  {
   "cell_type": "markdown",
   "metadata": {},
   "source": [
    ">>>### Conclusions Phase 1"
   ]
  },
  {
   "cell_type": "code",
   "execution_count": 23,
   "metadata": {},
   "outputs": [
    {
     "name": "stdout",
     "output_type": "stream",
     "text": [
      "le nombre de lignes, après nettoyage, est de :  314912\n",
      "le nombre de colonnes, après nettoyage, est de :  21\n"
     ]
    }
   ],
   "source": [
    "# Affichage du nombre de lignes et de colonnes après le nettoyage\n",
    "num_rows,num_columns = df_phase_1.shape\n",
    "print(\"le nombre de lignes, après nettoyage, est de : \",num_rows)\n",
    "print(\"le nombre de colonnes, après nettoyage, est de : \",num_columns)"
   ]
  },
  {
   "cell_type": "code",
   "execution_count": 24,
   "metadata": {},
   "outputs": [
    {
     "data": {
      "text/plain": [
       "edition                 0\n",
       "ed_id                   0\n",
       "ed_year                 0\n",
       "ed_type                 0\n",
       "ed_city                 0\n",
       "ed_noc                  0\n",
       "ed_country              0\n",
       "competition_date        0\n",
       "sport                   5\n",
       "event                   5\n",
       "result_id               5\n",
       "athlete                 5\n",
       "athl_id                 5\n",
       "pos                     5\n",
       "isTeamSport             5\n",
       "sex                     5\n",
       "born                 5760\n",
       "height              86871\n",
       "weight              86871\n",
       "athl_country            5\n",
       "athl_noc                5\n",
       "dtype: int64"
      ]
     },
     "execution_count": 24,
     "metadata": {},
     "output_type": "execute_result"
    }
   ],
   "source": [
    "# Calcul du nombre de valeurs manquantes ('NaN')\n",
    "df_phase_1.isna().sum()"
   ]
  },
  {
   "cell_type": "code",
   "execution_count": 25,
   "metadata": {},
   "outputs": [
    {
     "name": "stdout",
     "output_type": "stream",
     "text": [
      "Il y a 2.72 % de données manquantes sur le DataFrame.\n"
     ]
    }
   ],
   "source": [
    "# Calcul du pourcentage de valeurs manquantes ( soit 'NaN' soit 'na')\n",
    "nan_percentage = df_phase_1.isna().sum().sum() / (df_phase_1.shape[0] * df_phase_1.shape[1]) * 100\n",
    "na_percentage = (df_phase_1 == 'na').sum().sum() / (df_phase_1.shape[0] * df_phase_1.shape[1]) * 100\n",
    "\n",
    "total_percentage = nan_percentage + na_percentage\n",
    "\n",
    "# Génération de la phrase avec arrondi à 2 chiffres\n",
    "phrase = \"Il y a {:.2f} % de données manquantes sur le DataFrame.\".format(total_percentage)\n",
    "\n",
    "print(phrase)"
   ]
  },
  {
   "cell_type": "markdown",
   "metadata": {},
   "source": [
    ">>* ### PHASE 2"
   ]
  },
  {
   "attachments": {},
   "cell_type": "markdown",
   "metadata": {},
   "source": [
    ">>>Analyse par Olympiades"
   ]
  },
  {
   "cell_type": "code",
   "execution_count": 26,
   "metadata": {},
   "outputs": [
    {
     "data": {
      "image/png": "[encoded data removed]",
      "text/plain": [
       "<Figure size 1000x600 with 1 Axes>"
      ]
     },
     "metadata": {},
     "output_type": "display_data"
    }
   ],
   "source": [
    "plt.figure(figsize=(10, 6))\n",
    "\n",
    "# Calculer le pourcentage total de données manquantes par groupe\n",
    "missing_percentage_total = df_phase_1.groupby('edition').apply(lambda x: x.isna().sum().sum() / x.size) * 100\n",
    "\n",
    "# Calculer la médiane globale\n",
    "median_percentage = missing_percentage_total.median()\n",
    "\n",
    "# Créer le graphique à barres\n",
    "bars = plt.bar(missing_percentage_total.index, missing_percentage_total.values)\n",
    "\n",
    "plt.xlabel('edition')\n",
    "plt.ylabel('Pourcentage de données manquantes')\n",
    "plt.title('Pourcentage de données manquantes par groupe')\n",
    "\n",
    "# Mettre les étiquettes à la verticale\n",
    "plt.xticks(rotation='vertical')\n",
    "\n",
    "# Ajouter une ligne pour la médiane globale\n",
    "plt.axhline(median_percentage, color='r', linestyle='--', label='Médiane')\n",
    "plt.legend()\n",
    "\n",
    "# Colorer les barres en dessous de la médiane en vert\n",
    "for i, bar in enumerate(bars):\n",
    "    percentage = missing_percentage_total.values[i]\n",
    "    if percentage < median_percentage:\n",
    "        bar.set_color('g')\n",
    "\n",
    "# Colorer les noms des groupes en dessous de la médiane en vert\n",
    "for i, tick in enumerate(plt.gca().xaxis.get_major_ticks()):\n",
    "    percentage = missing_percentage_total.values[i]\n",
    "    if percentage < median_percentage:\n",
    "        tick.label1.set_color('g')\n",
    "\n",
    "# Sauvegarder le graphique (à positionner AVANT plt.show())\n",
    "plt.tight_layout() # garantie que tous les éléments seront correctement ajustés dans la figure\n",
    "#plt.savefig(\"Pourcentage_de_données_manquante_par_olympiades.svg\") # Vectoriel\n",
    "plt.savefig(\"Pourcentage_de_données_manquante_par_olympiades.png\") # Le + utilisé\n",
    "# Afficher le graphique\n",
    "plt.show()\n",
    "\n"
   ]
  },
  {
   "attachments": {},
   "cell_type": "markdown",
   "metadata": {},
   "source": [
    ">>>*Il y a 5 années pour lesquelles aucun résultats n'est disponible (celles remontant un manque de données de 70%). <br>\n",
    ">>>Ne remonte que l'olympiade et les données associées (date, lieu, ... cf ci-dessous)*"
   ]
  },
  {
   "cell_type": "code",
   "execution_count": 27,
   "metadata": {},
   "outputs": [
    {
     "data": {
      "text/html": [
       "<div>\n",
       "<style scoped>\n",
       "    .dataframe tbody tr th:only-of-type {\n",
       "        vertical-align: middle;\n",
       "    }\n",
       "\n",
       "    .dataframe tbody tr th {\n",
       "        vertical-align: top;\n",
       "    }\n",
       "\n",
       "    .dataframe thead th {\n",
       "        text-align: right;\n",
       "    }\n",
       "</style>\n",
       "<table border=\"1\" class=\"dataframe\">\n",
       "  <thead>\n",
       "    <tr style=\"text-align: right;\">\n",
       "      <th></th>\n",
       "      <th>edition</th>\n",
       "      <th>ed_id</th>\n",
       "      <th>ed_year</th>\n",
       "      <th>ed_type</th>\n",
       "      <th>ed_city</th>\n",
       "      <th>ed_noc</th>\n",
       "      <th>ed_country</th>\n",
       "      <th>competition_date</th>\n",
       "      <th>sport</th>\n",
       "      <th>event</th>\n",
       "      <th>result_id</th>\n",
       "      <th>athlete</th>\n",
       "      <th>athl_id</th>\n",
       "      <th>pos</th>\n",
       "      <th>isTeamSport</th>\n",
       "      <th>sex</th>\n",
       "      <th>born</th>\n",
       "      <th>height</th>\n",
       "      <th>weight</th>\n",
       "      <th>athl_country</th>\n",
       "      <th>athl_noc</th>\n",
       "    </tr>\n",
       "  </thead>\n",
       "  <tbody>\n",
       "    <tr>\n",
       "      <th>256124</th>\n",
       "      <td>1944 Winter Olympics</td>\n",
       "      <td>56</td>\n",
       "      <td>1944</td>\n",
       "      <td>Winter</td>\n",
       "      <td>Cortina d'Ampezzo</td>\n",
       "      <td>ITA</td>\n",
       "      <td>Italy</td>\n",
       "      <td>—</td>\n",
       "      <td>NaN</td>\n",
       "      <td>NaN</td>\n",
       "      <td>NaN</td>\n",
       "      <td>NaN</td>\n",
       "      <td>NaN</td>\n",
       "      <td>NaN</td>\n",
       "      <td>NaN</td>\n",
       "      <td>NaN</td>\n",
       "      <td>NaN</td>\n",
       "      <td>NaN</td>\n",
       "      <td>NaN</td>\n",
       "      <td>NaN</td>\n",
       "      <td>NaN</td>\n",
       "    </tr>\n",
       "  </tbody>\n",
       "</table>\n",
       "</div>"
      ],
      "text/plain": [
       "                     edition  ed_id  ed_year ed_type            ed_city  \\\n",
       "256124  1944 Winter Olympics     56     1944  Winter  Cortina d'Ampezzo   \n",
       "\n",
       "       ed_noc ed_country competition_date sport event  result_id athlete  \\\n",
       "256124    ITA      Italy                —   NaN   NaN        NaN     NaN   \n",
       "\n",
       "        athl_id  pos isTeamSport  sex born  height  weight athl_country  \\\n",
       "256124      NaN  NaN         NaN  NaN  NaN     NaN     NaN          NaN   \n",
       "\n",
       "       athl_noc  \n",
       "256124      NaN  "
      ]
     },
     "execution_count": 27,
     "metadata": {},
     "output_type": "execute_result"
    }
   ],
   "source": [
    "df_phase_1.loc[(df_phase_1['ed_id']==56),:]"
   ]
  },
  {
   "attachments": {},
   "cell_type": "markdown",
   "metadata": {},
   "source": [
    ">>>*Pour la suite du projet nous décidons de ne garder que les données de 1960 à 2022.*"
   ]
  },
  {
   "cell_type": "code",
   "execution_count": 28,
   "metadata": {},
   "outputs": [],
   "source": [
    "df_phase_2 = df_phase_1.loc[(df_phase_1['ed_year'] >= 1960) & (df_phase_1['ed_year'] <= 2022),:]"
   ]
  },
  {
   "cell_type": "markdown",
   "metadata": {},
   "source": [
    ">>>* Analyse visuelle des valeurs manquantes par colonnes"
   ]
  },
  {
   "cell_type": "code",
   "execution_count": 29,
   "metadata": {},
   "outputs": [
    {
     "data": {
      "application/vnd.plotly.v1+json": {
       "config": {
        "plotlyServerURL": "https://plot.ly"
       },
       "data": [
        {
         "alignmentgroup": "True",
         "hovertemplate": "Colonne=edition<br>edition=%{x}<br>Missing Count=%{y}<extra></extra>",
         "legendgroup": "edition",
         "marker": {
          "color": "rgb(228,26,28)",
          "pattern": {
           "shape": ""
          }
         },
         "name": "edition",
         "offsetgroup": "edition",
         "orientation": "v",
         "showlegend": true,
         "textposition": "auto",
         "type": "bar",
         "x": [
          "1960 Summer Olympics",
          "1960 Winter Olympics",
          "1964 Summer Olympics",
          "1964 Winter Olympics",
          "1968 Summer Olympics",
          "1968 Winter Olympics",
          "1972 Summer Olympics",
          "1972 Winter Olympics",
          "1976 Summer Olympics",
          "1976 Winter Olympics",
          "1980 Summer Olympics",
          "1980 Winter Olympics",
          "1984 Summer Olympics",
          "1984 Winter Olympics",
          "1988 Summer Olympics",
          "1988 Winter Olympics",
          "1992 Summer Olympics",
          "1992 Winter Olympics",
          "1994 Winter Olympics",
          "1996 Summer Olympics",
          "1998 Winter Olympics",
          "2000 Summer Olympics",
          "2002 Winter Olympics",
          "2004 Summer Olympics",
          "2006 Winter Olympics",
          "2008 Summer Olympics",
          "2010 Winter Olympics",
          "2012 Summer Olympics",
          "2014 Winter Olympics",
          "2016 Summer Olympics",
          "2018 Winter Olympics",
          "2020 Summer Olympics",
          "2022 Winter Olympics"
         ],
         "xaxis": "x",
         "y": [
          0,
          0,
          0,
          0,
          0,
          0,
          0,
          0,
          0,
          0,
          0,
          0,
          0,
          0,
          0,
          0,
          0,
          0,
          0,
          0,
          0,
          0,
          0,
          0,
          0,
          0,
          0,
          0,
          0,
          0,
          0,
          0,
          0
         ],
         "yaxis": "y"
        },
        {
         "alignmentgroup": "True",
         "hovertemplate": "Colonne=ed_id<br>edition=%{x}<br>Missing Count=%{y}<extra></extra>",
         "legendgroup": "ed_id",
         "marker": {
          "color": "rgb(55,126,184)",
          "pattern": {
           "shape": ""
          }
         },
         "name": "ed_id",
         "offsetgroup": "ed_id",
         "orientation": "v",
         "showlegend": true,
         "textposition": "auto",
         "type": "bar",
         "x": [
          "1960 Summer Olympics",
          "1960 Winter Olympics",
          "1964 Summer Olympics",
          "1964 Winter Olympics",
          "1968 Summer Olympics",
          "1968 Winter Olympics",
          "1972 Summer Olympics",
          "1972 Winter Olympics",
          "1976 Summer Olympics",
          "1976 Winter Olympics",
          "1980 Summer Olympics",
          "1980 Winter Olympics",
          "1984 Summer Olympics",
          "1984 Winter Olympics",
          "1988 Summer Olympics",
          "1988 Winter Olympics",
          "1992 Summer Olympics",
          "1992 Winter Olympics",
          "1994 Winter Olympics",
          "1996 Summer Olympics",
          "1998 Winter Olympics",
          "2000 Summer Olympics",
          "2002 Winter Olympics",
          "2004 Summer Olympics",
          "2006 Winter Olympics",
          "2008 Summer Olympics",
          "2010 Winter Olympics",
          "2012 Summer Olympics",
          "2014 Winter Olympics",
          "2016 Summer Olympics",
          "2018 Winter Olympics",
          "2020 Summer Olympics",
          "2022 Winter Olympics"
         ],
         "xaxis": "x",
         "y": [
          0,
          0,
          0,
          0,
          0,
          0,
          0,
          0,
          0,
          0,
          0,
          0,
          0,
          0,
          0,
          0,
          0,
          0,
          0,
          0,
          0,
          0,
          0,
          0,
          0,
          0,
          0,
          0,
          0,
          0,
          0,
          0,
          0
         ],
         "yaxis": "y"
        },
        {
         "alignmentgroup": "True",
         "hovertemplate": "Colonne=ed_year<br>edition=%{x}<br>Missing Count=%{y}<extra></extra>",
         "legendgroup": "ed_year",
         "marker": {
          "color": "rgb(77,175,74)",
          "pattern": {
           "shape": ""
          }
         },
         "name": "ed_year",
         "offsetgroup": "ed_year",
         "orientation": "v",
         "showlegend": true,
         "textposition": "auto",
         "type": "bar",
         "x": [
          "1960 Summer Olympics",
          "1960 Winter Olympics",
          "1964 Summer Olympics",
          "1964 Winter Olympics",
          "1968 Summer Olympics",
          "1968 Winter Olympics",
          "1972 Summer Olympics",
          "1972 Winter Olympics",
          "1976 Summer Olympics",
          "1976 Winter Olympics",
          "1980 Summer Olympics",
          "1980 Winter Olympics",
          "1984 Summer Olympics",
          "1984 Winter Olympics",
          "1988 Summer Olympics",
          "1988 Winter Olympics",
          "1992 Summer Olympics",
          "1992 Winter Olympics",
          "1994 Winter Olympics",
          "1996 Summer Olympics",
          "1998 Winter Olympics",
          "2000 Summer Olympics",
          "2002 Winter Olympics",
          "2004 Summer Olympics",
          "2006 Winter Olympics",
          "2008 Summer Olympics",
          "2010 Winter Olympics",
          "2012 Summer Olympics",
          "2014 Winter Olympics",
          "2016 Summer Olympics",
          "2018 Winter Olympics",
          "2020 Summer Olympics",
          "2022 Winter Olympics"
         ],
         "xaxis": "x",
         "y": [
          0,
          0,
          0,
          0,
          0,
          0,
          0,
          0,
          0,
          0,
          0,
          0,
          0,
          0,
          0,
          0,
          0,
          0,
          0,
          0,
          0,
          0,
          0,
          0,
          0,
          0,
          0,
          0,
          0,
          0,
          0,
          0,
          0
         ],
         "yaxis": "y"
        },
        {
         "alignmentgroup": "True",
         "hovertemplate": "Colonne=ed_type<br>edition=%{x}<br>Missing Count=%{y}<extra></extra>",
         "legendgroup": "ed_type",
         "marker": {
          "color": "rgb(152,78,163)",
          "pattern": {
           "shape": ""
          }
         },
         "name": "ed_type",
         "offsetgroup": "ed_type",
         "orientation": "v",
         "showlegend": true,
         "textposition": "auto",
         "type": "bar",
         "x": [
          "1960 Summer Olympics",
          "1960 Winter Olympics",
          "1964 Summer Olympics",
          "1964 Winter Olympics",
          "1968 Summer Olympics",
          "1968 Winter Olympics",
          "1972 Summer Olympics",
          "1972 Winter Olympics",
          "1976 Summer Olympics",
          "1976 Winter Olympics",
          "1980 Summer Olympics",
          "1980 Winter Olympics",
          "1984 Summer Olympics",
          "1984 Winter Olympics",
          "1988 Summer Olympics",
          "1988 Winter Olympics",
          "1992 Summer Olympics",
          "1992 Winter Olympics",
          "1994 Winter Olympics",
          "1996 Summer Olympics",
          "1998 Winter Olympics",
          "2000 Summer Olympics",
          "2002 Winter Olympics",
          "2004 Summer Olympics",
          "2006 Winter Olympics",
          "2008 Summer Olympics",
          "2010 Winter Olympics",
          "2012 Summer Olympics",
          "2014 Winter Olympics",
          "2016 Summer Olympics",
          "2018 Winter Olympics",
          "2020 Summer Olympics",
          "2022 Winter Olympics"
         ],
         "xaxis": "x",
         "y": [
          0,
          0,
          0,
          0,
          0,
          0,
          0,
          0,
          0,
          0,
          0,
          0,
          0,
          0,
          0,
          0,
          0,
          0,
          0,
          0,
          0,
          0,
          0,
          0,
          0,
          0,
          0,
          0,
          0,
          0,
          0,
          0,
          0
         ],
         "yaxis": "y"
        },
        {
         "alignmentgroup": "True",
         "hovertemplate": "Colonne=ed_city<br>edition=%{x}<br>Missing Count=%{y}<extra></extra>",
         "legendgroup": "ed_city",
         "marker": {
          "color": "rgb(255,127,0)",
          "pattern": {
           "shape": ""
          }
         },
         "name": "ed_city",
         "offsetgroup": "ed_city",
         "orientation": "v",
         "showlegend": true,
         "textposition": "auto",
         "type": "bar",
         "x": [
          "1960 Summer Olympics",
          "1960 Winter Olympics",
          "1964 Summer Olympics",
          "1964 Winter Olympics",
          "1968 Summer Olympics",
          "1968 Winter Olympics",
          "1972 Summer Olympics",
          "1972 Winter Olympics",
          "1976 Summer Olympics",
          "1976 Winter Olympics",
          "1980 Summer Olympics",
          "1980 Winter Olympics",
          "1984 Summer Olympics",
          "1984 Winter Olympics",
          "1988 Summer Olympics",
          "1988 Winter Olympics",
          "1992 Summer Olympics",
          "1992 Winter Olympics",
          "1994 Winter Olympics",
          "1996 Summer Olympics",
          "1998 Winter Olympics",
          "2000 Summer Olympics",
          "2002 Winter Olympics",
          "2004 Summer Olympics",
          "2006 Winter Olympics",
          "2008 Summer Olympics",
          "2010 Winter Olympics",
          "2012 Summer Olympics",
          "2014 Winter Olympics",
          "2016 Summer Olympics",
          "2018 Winter Olympics",
          "2020 Summer Olympics",
          "2022 Winter Olympics"
         ],
         "xaxis": "x",
         "y": [
          0,
          0,
          0,
          0,
          0,
          0,
          0,
          0,
          0,
          0,
          0,
          0,
          0,
          0,
          0,
          0,
          0,
          0,
          0,
          0,
          0,
          0,
          0,
          0,
          0,
          0,
          0,
          0,
          0,
          0,
          0,
          0,
          0
         ],
         "yaxis": "y"
        },
        {
         "alignmentgroup": "True",
         "hovertemplate": "Colonne=ed_noc<br>edition=%{x}<br>Missing Count=%{y}<extra></extra>",
         "legendgroup": "ed_noc",
         "marker": {
          "color": "rgb(255,255,51)",
          "pattern": {
           "shape": ""
          }
         },
         "name": "ed_noc",
         "offsetgroup": "ed_noc",
         "orientation": "v",
         "showlegend": true,
         "textposition": "auto",
         "type": "bar",
         "x": [
          "1960 Summer Olympics",
          "1960 Winter Olympics",
          "1964 Summer Olympics",
          "1964 Winter Olympics",
          "1968 Summer Olympics",
          "1968 Winter Olympics",
          "1972 Summer Olympics",
          "1972 Winter Olympics",
          "1976 Summer Olympics",
          "1976 Winter Olympics",
          "1980 Summer Olympics",
          "1980 Winter Olympics",
          "1984 Summer Olympics",
          "1984 Winter Olympics",
          "1988 Summer Olympics",
          "1988 Winter Olympics",
          "1992 Summer Olympics",
          "1992 Winter Olympics",
          "1994 Winter Olympics",
          "1996 Summer Olympics",
          "1998 Winter Olympics",
          "2000 Summer Olympics",
          "2002 Winter Olympics",
          "2004 Summer Olympics",
          "2006 Winter Olympics",
          "2008 Summer Olympics",
          "2010 Winter Olympics",
          "2012 Summer Olympics",
          "2014 Winter Olympics",
          "2016 Summer Olympics",
          "2018 Winter Olympics",
          "2020 Summer Olympics",
          "2022 Winter Olympics"
         ],
         "xaxis": "x",
         "y": [
          0,
          0,
          0,
          0,
          0,
          0,
          0,
          0,
          0,
          0,
          0,
          0,
          0,
          0,
          0,
          0,
          0,
          0,
          0,
          0,
          0,
          0,
          0,
          0,
          0,
          0,
          0,
          0,
          0,
          0,
          0,
          0,
          0
         ],
         "yaxis": "y"
        },
        {
         "alignmentgroup": "True",
         "hovertemplate": "Colonne=ed_country<br>edition=%{x}<br>Missing Count=%{y}<extra></extra>",
         "legendgroup": "ed_country",
         "marker": {
          "color": "rgb(166,86,40)",
          "pattern": {
           "shape": ""
          }
         },
         "name": "ed_country",
         "offsetgroup": "ed_country",
         "orientation": "v",
         "showlegend": true,
         "textposition": "auto",
         "type": "bar",
         "x": [
          "1960 Summer Olympics",
          "1960 Winter Olympics",
          "1964 Summer Olympics",
          "1964 Winter Olympics",
          "1968 Summer Olympics",
          "1968 Winter Olympics",
          "1972 Summer Olympics",
          "1972 Winter Olympics",
          "1976 Summer Olympics",
          "1976 Winter Olympics",
          "1980 Summer Olympics",
          "1980 Winter Olympics",
          "1984 Summer Olympics",
          "1984 Winter Olympics",
          "1988 Summer Olympics",
          "1988 Winter Olympics",
          "1992 Summer Olympics",
          "1992 Winter Olympics",
          "1994 Winter Olympics",
          "1996 Summer Olympics",
          "1998 Winter Olympics",
          "2000 Summer Olympics",
          "2002 Winter Olympics",
          "2004 Summer Olympics",
          "2006 Winter Olympics",
          "2008 Summer Olympics",
          "2010 Winter Olympics",
          "2012 Summer Olympics",
          "2014 Winter Olympics",
          "2016 Summer Olympics",
          "2018 Winter Olympics",
          "2020 Summer Olympics",
          "2022 Winter Olympics"
         ],
         "xaxis": "x",
         "y": [
          0,
          0,
          0,
          0,
          0,
          0,
          0,
          0,
          0,
          0,
          0,
          0,
          0,
          0,
          0,
          0,
          0,
          0,
          0,
          0,
          0,
          0,
          0,
          0,
          0,
          0,
          0,
          0,
          0,
          0,
          0,
          0,
          0
         ],
         "yaxis": "y"
        },
        {
         "alignmentgroup": "True",
         "hovertemplate": "Colonne=competition_date<br>edition=%{x}<br>Missing Count=%{y}<extra></extra>",
         "legendgroup": "competition_date",
         "marker": {
          "color": "rgb(247,129,191)",
          "pattern": {
           "shape": ""
          }
         },
         "name": "competition_date",
         "offsetgroup": "competition_date",
         "orientation": "v",
         "showlegend": true,
         "textposition": "auto",
         "type": "bar",
         "x": [
          "1960 Summer Olympics",
          "1960 Winter Olympics",
          "1964 Summer Olympics",
          "1964 Winter Olympics",
          "1968 Summer Olympics",
          "1968 Winter Olympics",
          "1972 Summer Olympics",
          "1972 Winter Olympics",
          "1976 Summer Olympics",
          "1976 Winter Olympics",
          "1980 Summer Olympics",
          "1980 Winter Olympics",
          "1984 Summer Olympics",
          "1984 Winter Olympics",
          "1988 Summer Olympics",
          "1988 Winter Olympics",
          "1992 Summer Olympics",
          "1992 Winter Olympics",
          "1994 Winter Olympics",
          "1996 Summer Olympics",
          "1998 Winter Olympics",
          "2000 Summer Olympics",
          "2002 Winter Olympics",
          "2004 Summer Olympics",
          "2006 Winter Olympics",
          "2008 Summer Olympics",
          "2010 Winter Olympics",
          "2012 Summer Olympics",
          "2014 Winter Olympics",
          "2016 Summer Olympics",
          "2018 Winter Olympics",
          "2020 Summer Olympics",
          "2022 Winter Olympics"
         ],
         "xaxis": "x",
         "y": [
          0,
          0,
          0,
          0,
          0,
          0,
          0,
          0,
          0,
          0,
          0,
          0,
          0,
          0,
          0,
          0,
          0,
          0,
          0,
          0,
          0,
          0,
          0,
          0,
          0,
          0,
          0,
          0,
          0,
          0,
          0,
          0,
          0
         ],
         "yaxis": "y"
        },
        {
         "alignmentgroup": "True",
         "hovertemplate": "Colonne=sport<br>edition=%{x}<br>Missing Count=%{y}<extra></extra>",
         "legendgroup": "sport",
         "marker": {
          "color": "rgb(153,153,153)",
          "pattern": {
           "shape": ""
          }
         },
         "name": "sport",
         "offsetgroup": "sport",
         "orientation": "v",
         "showlegend": true,
         "textposition": "auto",
         "type": "bar",
         "x": [
          "1960 Summer Olympics",
          "1960 Winter Olympics",
          "1964 Summer Olympics",
          "1964 Winter Olympics",
          "1968 Summer Olympics",
          "1968 Winter Olympics",
          "1972 Summer Olympics",
          "1972 Winter Olympics",
          "1976 Summer Olympics",
          "1976 Winter Olympics",
          "1980 Summer Olympics",
          "1980 Winter Olympics",
          "1984 Summer Olympics",
          "1984 Winter Olympics",
          "1988 Summer Olympics",
          "1988 Winter Olympics",
          "1992 Summer Olympics",
          "1992 Winter Olympics",
          "1994 Winter Olympics",
          "1996 Summer Olympics",
          "1998 Winter Olympics",
          "2000 Summer Olympics",
          "2002 Winter Olympics",
          "2004 Summer Olympics",
          "2006 Winter Olympics",
          "2008 Summer Olympics",
          "2010 Winter Olympics",
          "2012 Summer Olympics",
          "2014 Winter Olympics",
          "2016 Summer Olympics",
          "2018 Winter Olympics",
          "2020 Summer Olympics",
          "2022 Winter Olympics"
         ],
         "xaxis": "x",
         "y": [
          0,
          0,
          0,
          0,
          0,
          0,
          0,
          0,
          0,
          0,
          0,
          0,
          0,
          0,
          0,
          0,
          0,
          0,
          0,
          0,
          0,
          0,
          0,
          0,
          0,
          0,
          0,
          0,
          0,
          0,
          0,
          0,
          0
         ],
         "yaxis": "y"
        },
        {
         "alignmentgroup": "True",
         "hovertemplate": "Colonne=event<br>edition=%{x}<br>Missing Count=%{y}<extra></extra>",
         "legendgroup": "event",
         "marker": {
          "color": "rgb(228,26,28)",
          "pattern": {
           "shape": ""
          }
         },
         "name": "event",
         "offsetgroup": "event",
         "orientation": "v",
         "showlegend": true,
         "textposition": "auto",
         "type": "bar",
         "x": [
          "1960 Summer Olympics",
          "1960 Winter Olympics",
          "1964 Summer Olympics",
          "1964 Winter Olympics",
          "1968 Summer Olympics",
          "1968 Winter Olympics",
          "1972 Summer Olympics",
          "1972 Winter Olympics",
          "1976 Summer Olympics",
          "1976 Winter Olympics",
          "1980 Summer Olympics",
          "1980 Winter Olympics",
          "1984 Summer Olympics",
          "1984 Winter Olympics",
          "1988 Summer Olympics",
          "1988 Winter Olympics",
          "1992 Summer Olympics",
          "1992 Winter Olympics",
          "1994 Winter Olympics",
          "1996 Summer Olympics",
          "1998 Winter Olympics",
          "2000 Summer Olympics",
          "2002 Winter Olympics",
          "2004 Summer Olympics",
          "2006 Winter Olympics",
          "2008 Summer Olympics",
          "2010 Winter Olympics",
          "2012 Summer Olympics",
          "2014 Winter Olympics",
          "2016 Summer Olympics",
          "2018 Winter Olympics",
          "2020 Summer Olympics",
          "2022 Winter Olympics"
         ],
         "xaxis": "x",
         "y": [
          0,
          0,
          0,
          0,
          0,
          0,
          0,
          0,
          0,
          0,
          0,
          0,
          0,
          0,
          0,
          0,
          0,
          0,
          0,
          0,
          0,
          0,
          0,
          0,
          0,
          0,
          0,
          0,
          0,
          0,
          0,
          0,
          0
         ],
         "yaxis": "y"
        },
        {
         "alignmentgroup": "True",
         "hovertemplate": "Colonne=result_id<br>edition=%{x}<br>Missing Count=%{y}<extra></extra>",
         "legendgroup": "result_id",
         "marker": {
          "color": "rgb(55,126,184)",
          "pattern": {
           "shape": ""
          }
         },
         "name": "result_id",
         "offsetgroup": "result_id",
         "orientation": "v",
         "showlegend": true,
         "textposition": "auto",
         "type": "bar",
         "x": [
          "1960 Summer Olympics",
          "1960 Winter Olympics",
          "1964 Summer Olympics",
          "1964 Winter Olympics",
          "1968 Summer Olympics",
          "1968 Winter Olympics",
          "1972 Summer Olympics",
          "1972 Winter Olympics",
          "1976 Summer Olympics",
          "1976 Winter Olympics",
          "1980 Summer Olympics",
          "1980 Winter Olympics",
          "1984 Summer Olympics",
          "1984 Winter Olympics",
          "1988 Summer Olympics",
          "1988 Winter Olympics",
          "1992 Summer Olympics",
          "1992 Winter Olympics",
          "1994 Winter Olympics",
          "1996 Summer Olympics",
          "1998 Winter Olympics",
          "2000 Summer Olympics",
          "2002 Winter Olympics",
          "2004 Summer Olympics",
          "2006 Winter Olympics",
          "2008 Summer Olympics",
          "2010 Winter Olympics",
          "2012 Summer Olympics",
          "2014 Winter Olympics",
          "2016 Summer Olympics",
          "2018 Winter Olympics",
          "2020 Summer Olympics",
          "2022 Winter Olympics"
         ],
         "xaxis": "x",
         "y": [
          0,
          0,
          0,
          0,
          0,
          0,
          0,
          0,
          0,
          0,
          0,
          0,
          0,
          0,
          0,
          0,
          0,
          0,
          0,
          0,
          0,
          0,
          0,
          0,
          0,
          0,
          0,
          0,
          0,
          0,
          0,
          0,
          0
         ],
         "yaxis": "y"
        },
        {
         "alignmentgroup": "True",
         "hovertemplate": "Colonne=athlete<br>edition=%{x}<br>Missing Count=%{y}<extra></extra>",
         "legendgroup": "athlete",
         "marker": {
          "color": "rgb(77,175,74)",
          "pattern": {
           "shape": ""
          }
         },
         "name": "athlete",
         "offsetgroup": "athlete",
         "orientation": "v",
         "showlegend": true,
         "textposition": "auto",
         "type": "bar",
         "x": [
          "1960 Summer Olympics",
          "1960 Winter Olympics",
          "1964 Summer Olympics",
          "1964 Winter Olympics",
          "1968 Summer Olympics",
          "1968 Winter Olympics",
          "1972 Summer Olympics",
          "1972 Winter Olympics",
          "1976 Summer Olympics",
          "1976 Winter Olympics",
          "1980 Summer Olympics",
          "1980 Winter Olympics",
          "1984 Summer Olympics",
          "1984 Winter Olympics",
          "1988 Summer Olympics",
          "1988 Winter Olympics",
          "1992 Summer Olympics",
          "1992 Winter Olympics",
          "1994 Winter Olympics",
          "1996 Summer Olympics",
          "1998 Winter Olympics",
          "2000 Summer Olympics",
          "2002 Winter Olympics",
          "2004 Summer Olympics",
          "2006 Winter Olympics",
          "2008 Summer Olympics",
          "2010 Winter Olympics",
          "2012 Summer Olympics",
          "2014 Winter Olympics",
          "2016 Summer Olympics",
          "2018 Winter Olympics",
          "2020 Summer Olympics",
          "2022 Winter Olympics"
         ],
         "xaxis": "x",
         "y": [
          0,
          0,
          0,
          0,
          0,
          0,
          0,
          0,
          0,
          0,
          0,
          0,
          0,
          0,
          0,
          0,
          0,
          0,
          0,
          0,
          0,
          0,
          0,
          0,
          0,
          0,
          0,
          0,
          0,
          0,
          0,
          0,
          0
         ],
         "yaxis": "y"
        },
        {
         "alignmentgroup": "True",
         "hovertemplate": "Colonne=athl_id<br>edition=%{x}<br>Missing Count=%{y}<extra></extra>",
         "legendgroup": "athl_id",
         "marker": {
          "color": "rgb(152,78,163)",
          "pattern": {
           "shape": ""
          }
         },
         "name": "athl_id",
         "offsetgroup": "athl_id",
         "orientation": "v",
         "showlegend": true,
         "textposition": "auto",
         "type": "bar",
         "x": [
          "1960 Summer Olympics",
          "1960 Winter Olympics",
          "1964 Summer Olympics",
          "1964 Winter Olympics",
          "1968 Summer Olympics",
          "1968 Winter Olympics",
          "1972 Summer Olympics",
          "1972 Winter Olympics",
          "1976 Summer Olympics",
          "1976 Winter Olympics",
          "1980 Summer Olympics",
          "1980 Winter Olympics",
          "1984 Summer Olympics",
          "1984 Winter Olympics",
          "1988 Summer Olympics",
          "1988 Winter Olympics",
          "1992 Summer Olympics",
          "1992 Winter Olympics",
          "1994 Winter Olympics",
          "1996 Summer Olympics",
          "1998 Winter Olympics",
          "2000 Summer Olympics",
          "2002 Winter Olympics",
          "2004 Summer Olympics",
          "2006 Winter Olympics",
          "2008 Summer Olympics",
          "2010 Winter Olympics",
          "2012 Summer Olympics",
          "2014 Winter Olympics",
          "2016 Summer Olympics",
          "2018 Winter Olympics",
          "2020 Summer Olympics",
          "2022 Winter Olympics"
         ],
         "xaxis": "x",
         "y": [
          0,
          0,
          0,
          0,
          0,
          0,
          0,
          0,
          0,
          0,
          0,
          0,
          0,
          0,
          0,
          0,
          0,
          0,
          0,
          0,
          0,
          0,
          0,
          0,
          0,
          0,
          0,
          0,
          0,
          0,
          0,
          0,
          0
         ],
         "yaxis": "y"
        },
        {
         "alignmentgroup": "True",
         "hovertemplate": "Colonne=pos<br>edition=%{x}<br>Missing Count=%{y}<extra></extra>",
         "legendgroup": "pos",
         "marker": {
          "color": "rgb(255,127,0)",
          "pattern": {
           "shape": ""
          }
         },
         "name": "pos",
         "offsetgroup": "pos",
         "orientation": "v",
         "showlegend": true,
         "textposition": "auto",
         "type": "bar",
         "x": [
          "1960 Summer Olympics",
          "1960 Winter Olympics",
          "1964 Summer Olympics",
          "1964 Winter Olympics",
          "1968 Summer Olympics",
          "1968 Winter Olympics",
          "1972 Summer Olympics",
          "1972 Winter Olympics",
          "1976 Summer Olympics",
          "1976 Winter Olympics",
          "1980 Summer Olympics",
          "1980 Winter Olympics",
          "1984 Summer Olympics",
          "1984 Winter Olympics",
          "1988 Summer Olympics",
          "1988 Winter Olympics",
          "1992 Summer Olympics",
          "1992 Winter Olympics",
          "1994 Winter Olympics",
          "1996 Summer Olympics",
          "1998 Winter Olympics",
          "2000 Summer Olympics",
          "2002 Winter Olympics",
          "2004 Summer Olympics",
          "2006 Winter Olympics",
          "2008 Summer Olympics",
          "2010 Winter Olympics",
          "2012 Summer Olympics",
          "2014 Winter Olympics",
          "2016 Summer Olympics",
          "2018 Winter Olympics",
          "2020 Summer Olympics",
          "2022 Winter Olympics"
         ],
         "xaxis": "x",
         "y": [
          0,
          0,
          0,
          0,
          0,
          0,
          0,
          0,
          0,
          0,
          0,
          0,
          0,
          0,
          0,
          0,
          0,
          0,
          0,
          0,
          0,
          0,
          0,
          0,
          0,
          0,
          0,
          0,
          0,
          0,
          0,
          0,
          0
         ],
         "yaxis": "y"
        },
        {
         "alignmentgroup": "True",
         "hovertemplate": "Colonne=isTeamSport<br>edition=%{x}<br>Missing Count=%{y}<extra></extra>",
         "legendgroup": "isTeamSport",
         "marker": {
          "color": "rgb(255,255,51)",
          "pattern": {
           "shape": ""
          }
         },
         "name": "isTeamSport",
         "offsetgroup": "isTeamSport",
         "orientation": "v",
         "showlegend": true,
         "textposition": "auto",
         "type": "bar",
         "x": [
          "1960 Summer Olympics",
          "1960 Winter Olympics",
          "1964 Summer Olympics",
          "1964 Winter Olympics",
          "1968 Summer Olympics",
          "1968 Winter Olympics",
          "1972 Summer Olympics",
          "1972 Winter Olympics",
          "1976 Summer Olympics",
          "1976 Winter Olympics",
          "1980 Summer Olympics",
          "1980 Winter Olympics",
          "1984 Summer Olympics",
          "1984 Winter Olympics",
          "1988 Summer Olympics",
          "1988 Winter Olympics",
          "1992 Summer Olympics",
          "1992 Winter Olympics",
          "1994 Winter Olympics",
          "1996 Summer Olympics",
          "1998 Winter Olympics",
          "2000 Summer Olympics",
          "2002 Winter Olympics",
          "2004 Summer Olympics",
          "2006 Winter Olympics",
          "2008 Summer Olympics",
          "2010 Winter Olympics",
          "2012 Summer Olympics",
          "2014 Winter Olympics",
          "2016 Summer Olympics",
          "2018 Winter Olympics",
          "2020 Summer Olympics",
          "2022 Winter Olympics"
         ],
         "xaxis": "x",
         "y": [
          0,
          0,
          0,
          0,
          0,
          0,
          0,
          0,
          0,
          0,
          0,
          0,
          0,
          0,
          0,
          0,
          0,
          0,
          0,
          0,
          0,
          0,
          0,
          0,
          0,
          0,
          0,
          0,
          0,
          0,
          0,
          0,
          0
         ],
         "yaxis": "y"
        },
        {
         "alignmentgroup": "True",
         "hovertemplate": "Colonne=sex<br>edition=%{x}<br>Missing Count=%{y}<extra></extra>",
         "legendgroup": "sex",
         "marker": {
          "color": "rgb(166,86,40)",
          "pattern": {
           "shape": ""
          }
         },
         "name": "sex",
         "offsetgroup": "sex",
         "orientation": "v",
         "showlegend": true,
         "textposition": "auto",
         "type": "bar",
         "x": [
          "1960 Summer Olympics",
          "1960 Winter Olympics",
          "1964 Summer Olympics",
          "1964 Winter Olympics",
          "1968 Summer Olympics",
          "1968 Winter Olympics",
          "1972 Summer Olympics",
          "1972 Winter Olympics",
          "1976 Summer Olympics",
          "1976 Winter Olympics",
          "1980 Summer Olympics",
          "1980 Winter Olympics",
          "1984 Summer Olympics",
          "1984 Winter Olympics",
          "1988 Summer Olympics",
          "1988 Winter Olympics",
          "1992 Summer Olympics",
          "1992 Winter Olympics",
          "1994 Winter Olympics",
          "1996 Summer Olympics",
          "1998 Winter Olympics",
          "2000 Summer Olympics",
          "2002 Winter Olympics",
          "2004 Summer Olympics",
          "2006 Winter Olympics",
          "2008 Summer Olympics",
          "2010 Winter Olympics",
          "2012 Summer Olympics",
          "2014 Winter Olympics",
          "2016 Summer Olympics",
          "2018 Winter Olympics",
          "2020 Summer Olympics",
          "2022 Winter Olympics"
         ],
         "xaxis": "x",
         "y": [
          0,
          0,
          0,
          0,
          0,
          0,
          0,
          0,
          0,
          0,
          0,
          0,
          0,
          0,
          0,
          0,
          0,
          0,
          0,
          0,
          0,
          0,
          0,
          0,
          0,
          0,
          0,
          0,
          0,
          0,
          0,
          0,
          0
         ],
         "yaxis": "y"
        },
        {
         "alignmentgroup": "True",
         "hovertemplate": "Colonne=born<br>edition=%{x}<br>Missing Count=%{y}<extra></extra>",
         "legendgroup": "born",
         "marker": {
          "color": "rgb(247,129,191)",
          "pattern": {
           "shape": ""
          }
         },
         "name": "born",
         "offsetgroup": "born",
         "orientation": "v",
         "showlegend": true,
         "textposition": "auto",
         "type": "bar",
         "x": [
          "1960 Summer Olympics",
          "1960 Winter Olympics",
          "1964 Summer Olympics",
          "1964 Winter Olympics",
          "1968 Summer Olympics",
          "1968 Winter Olympics",
          "1972 Summer Olympics",
          "1972 Winter Olympics",
          "1976 Summer Olympics",
          "1976 Winter Olympics",
          "1980 Summer Olympics",
          "1980 Winter Olympics",
          "1984 Summer Olympics",
          "1984 Winter Olympics",
          "1988 Summer Olympics",
          "1988 Winter Olympics",
          "1992 Summer Olympics",
          "1992 Winter Olympics",
          "1994 Winter Olympics",
          "1996 Summer Olympics",
          "1998 Winter Olympics",
          "2000 Summer Olympics",
          "2002 Winter Olympics",
          "2004 Summer Olympics",
          "2006 Winter Olympics",
          "2008 Summer Olympics",
          "2010 Winter Olympics",
          "2012 Summer Olympics",
          "2014 Winter Olympics",
          "2016 Summer Olympics",
          "2018 Winter Olympics",
          "2020 Summer Olympics",
          "2022 Winter Olympics"
         ],
         "xaxis": "x",
         "y": [
          17,
          6,
          36,
          103,
          67,
          9,
          58,
          0,
          27,
          0,
          139,
          3,
          130,
          19,
          37,
          64,
          24,
          3,
          4,
          4,
          3,
          1,
          0,
          0,
          0,
          45,
          0,
          0,
          0,
          0,
          0,
          0,
          0
         ],
         "yaxis": "y"
        },
        {
         "alignmentgroup": "True",
         "hovertemplate": "Colonne=height<br>edition=%{x}<br>Missing Count=%{y}<extra></extra>",
         "legendgroup": "height",
         "marker": {
          "color": "rgb(153,153,153)",
          "pattern": {
           "shape": ""
          }
         },
         "name": "height",
         "offsetgroup": "height",
         "orientation": "v",
         "showlegend": true,
         "textposition": "auto",
         "type": "bar",
         "x": [
          "1960 Summer Olympics",
          "1960 Winter Olympics",
          "1964 Summer Olympics",
          "1964 Winter Olympics",
          "1968 Summer Olympics",
          "1968 Winter Olympics",
          "1972 Summer Olympics",
          "1972 Winter Olympics",
          "1976 Summer Olympics",
          "1976 Winter Olympics",
          "1980 Summer Olympics",
          "1980 Winter Olympics",
          "1984 Summer Olympics",
          "1984 Winter Olympics",
          "1988 Summer Olympics",
          "1988 Winter Olympics",
          "1992 Summer Olympics",
          "1992 Winter Olympics",
          "1994 Winter Olympics",
          "1996 Summer Olympics",
          "1998 Winter Olympics",
          "2000 Summer Olympics",
          "2002 Winter Olympics",
          "2004 Summer Olympics",
          "2006 Winter Olympics",
          "2008 Summer Olympics",
          "2010 Winter Olympics",
          "2012 Summer Olympics",
          "2014 Winter Olympics",
          "2016 Summer Olympics",
          "2018 Winter Olympics",
          "2020 Summer Olympics",
          "2022 Winter Olympics"
         ],
         "xaxis": "x",
         "y": [
          529,
          614,
          477,
          546,
          419,
          108,
          548,
          20,
          389,
          519,
          299,
          376,
          689,
          210,
          764,
          855,
          3053,
          769,
          198,
          2021,
          91,
          219,
          50,
          138,
          21,
          301,
          19,
          215,
          148,
          239,
          358,
          8415,
          2645
         ],
         "yaxis": "y"
        },
        {
         "alignmentgroup": "True",
         "hovertemplate": "Colonne=weight<br>edition=%{x}<br>Missing Count=%{y}<extra></extra>",
         "legendgroup": "weight",
         "marker": {
          "color": "rgb(228,26,28)",
          "pattern": {
           "shape": ""
          }
         },
         "name": "weight",
         "offsetgroup": "weight",
         "orientation": "v",
         "showlegend": true,
         "textposition": "auto",
         "type": "bar",
         "x": [
          "1960 Summer Olympics",
          "1960 Winter Olympics",
          "1964 Summer Olympics",
          "1964 Winter Olympics",
          "1968 Summer Olympics",
          "1968 Winter Olympics",
          "1972 Summer Olympics",
          "1972 Winter Olympics",
          "1976 Summer Olympics",
          "1976 Winter Olympics",
          "1980 Summer Olympics",
          "1980 Winter Olympics",
          "1984 Summer Olympics",
          "1984 Winter Olympics",
          "1988 Summer Olympics",
          "1988 Winter Olympics",
          "1992 Summer Olympics",
          "1992 Winter Olympics",
          "1994 Winter Olympics",
          "1996 Summer Olympics",
          "1998 Winter Olympics",
          "2000 Summer Olympics",
          "2002 Winter Olympics",
          "2004 Summer Olympics",
          "2006 Winter Olympics",
          "2008 Summer Olympics",
          "2010 Winter Olympics",
          "2012 Summer Olympics",
          "2014 Winter Olympics",
          "2016 Summer Olympics",
          "2018 Winter Olympics",
          "2020 Summer Olympics",
          "2022 Winter Olympics"
         ],
         "xaxis": "x",
         "y": [
          529,
          614,
          477,
          546,
          419,
          108,
          548,
          20,
          389,
          519,
          299,
          376,
          689,
          210,
          764,
          855,
          3053,
          769,
          198,
          2021,
          91,
          219,
          50,
          138,
          21,
          301,
          19,
          215,
          148,
          239,
          358,
          8415,
          2645
         ],
         "yaxis": "y"
        },
        {
         "alignmentgroup": "True",
         "hovertemplate": "Colonne=athl_country<br>edition=%{x}<br>Missing Count=%{y}<extra></extra>",
         "legendgroup": "athl_country",
         "marker": {
          "color": "rgb(55,126,184)",
          "pattern": {
           "shape": ""
          }
         },
         "name": "athl_country",
         "offsetgroup": "athl_country",
         "orientation": "v",
         "showlegend": true,
         "textposition": "auto",
         "type": "bar",
         "x": [
          "1960 Summer Olympics",
          "1960 Winter Olympics",
          "1964 Summer Olympics",
          "1964 Winter Olympics",
          "1968 Summer Olympics",
          "1968 Winter Olympics",
          "1972 Summer Olympics",
          "1972 Winter Olympics",
          "1976 Summer Olympics",
          "1976 Winter Olympics",
          "1980 Summer Olympics",
          "1980 Winter Olympics",
          "1984 Summer Olympics",
          "1984 Winter Olympics",
          "1988 Summer Olympics",
          "1988 Winter Olympics",
          "1992 Summer Olympics",
          "1992 Winter Olympics",
          "1994 Winter Olympics",
          "1996 Summer Olympics",
          "1998 Winter Olympics",
          "2000 Summer Olympics",
          "2002 Winter Olympics",
          "2004 Summer Olympics",
          "2006 Winter Olympics",
          "2008 Summer Olympics",
          "2010 Winter Olympics",
          "2012 Summer Olympics",
          "2014 Winter Olympics",
          "2016 Summer Olympics",
          "2018 Winter Olympics",
          "2020 Summer Olympics",
          "2022 Winter Olympics"
         ],
         "xaxis": "x",
         "y": [
          0,
          0,
          0,
          0,
          0,
          0,
          0,
          0,
          0,
          0,
          0,
          0,
          0,
          0,
          0,
          0,
          0,
          0,
          0,
          0,
          0,
          0,
          0,
          0,
          0,
          0,
          0,
          0,
          0,
          0,
          0,
          0,
          0
         ],
         "yaxis": "y"
        },
        {
         "alignmentgroup": "True",
         "hovertemplate": "Colonne=athl_noc<br>edition=%{x}<br>Missing Count=%{y}<extra></extra>",
         "legendgroup": "athl_noc",
         "marker": {
          "color": "rgb(77,175,74)",
          "pattern": {
           "shape": ""
          }
         },
         "name": "athl_noc",
         "offsetgroup": "athl_noc",
         "orientation": "v",
         "showlegend": true,
         "textposition": "auto",
         "type": "bar",
         "x": [
          "1960 Summer Olympics",
          "1960 Winter Olympics",
          "1964 Summer Olympics",
          "1964 Winter Olympics",
          "1968 Summer Olympics",
          "1968 Winter Olympics",
          "1972 Summer Olympics",
          "1972 Winter Olympics",
          "1976 Summer Olympics",
          "1976 Winter Olympics",
          "1980 Summer Olympics",
          "1980 Winter Olympics",
          "1984 Summer Olympics",
          "1984 Winter Olympics",
          "1988 Summer Olympics",
          "1988 Winter Olympics",
          "1992 Summer Olympics",
          "1992 Winter Olympics",
          "1994 Winter Olympics",
          "1996 Summer Olympics",
          "1998 Winter Olympics",
          "2000 Summer Olympics",
          "2002 Winter Olympics",
          "2004 Summer Olympics",
          "2006 Winter Olympics",
          "2008 Summer Olympics",
          "2010 Winter Olympics",
          "2012 Summer Olympics",
          "2014 Winter Olympics",
          "2016 Summer Olympics",
          "2018 Winter Olympics",
          "2020 Summer Olympics",
          "2022 Winter Olympics"
         ],
         "xaxis": "x",
         "y": [
          0,
          0,
          0,
          0,
          0,
          0,
          0,
          0,
          0,
          0,
          0,
          0,
          0,
          0,
          0,
          0,
          0,
          0,
          0,
          0,
          0,
          0,
          0,
          0,
          0,
          0,
          0,
          0,
          0,
          0,
          0,
          0,
          0
         ],
         "yaxis": "y"
        }
       ],
       "layout": {
        "barmode": "stack",
        "height": 900,
        "legend": {
         "title": {
          "text": "Colonnes"
         },
         "tracegroupgap": 0
        },
        "margin": {
         "t": 60
        },
        "template": {
         "data": {
          "bar": [
           {
            "error_x": {
             "color": "#2a3f5f"
            },
            "error_y": {
             "color": "#2a3f5f"
            },
            "marker": {
             "line": {
              "color": "#E5ECF6",
              "width": 0.5
             },
             "pattern": {
              "fillmode": "overlay",
              "size": 10,
              "solidity": 0.2
             }
            },
            "type": "bar"
           }
          ],
          "barpolar": [
           {
            "marker": {
             "line": {
              "color": "#E5ECF6",
              "width": 0.5
             },
             "pattern": {
              "fillmode": "overlay",
              "size": 10,
              "solidity": 0.2
             }
            },
            "type": "barpolar"
           }
          ],
          "carpet": [
           {
            "aaxis": {
             "endlinecolor": "#2a3f5f",
             "gridcolor": "white",
             "linecolor": "white",
             "minorgridcolor": "white",
             "startlinecolor": "#2a3f5f"
            },
            "baxis": {
             "endlinecolor": "#2a3f5f",
             "gridcolor": "white",
             "linecolor": "white",
             "minorgridcolor": "white",
             "startlinecolor": "#2a3f5f"
            },
            "type": "carpet"
           }
          ],
          "choropleth": [
           {
            "colorbar": {
             "outlinewidth": 0,
             "ticks": ""
            },
            "type": "choropleth"
           }
          ],
          "contour": [
           {
            "colorbar": {
             "outlinewidth": 0,
             "ticks": ""
            },
            "colorscale": [
             [
              0,
              "#0d0887"
             ],
             [
              0.1111111111111111,
              "#46039f"
             ],
             [
              0.2222222222222222,
              "#7201a8"
             ],
             [
              0.3333333333333333,
              "#9c179e"
             ],
             [
              0.4444444444444444,
              "#bd3786"
             ],
             [
              0.5555555555555556,
              "#d8576b"
             ],
             [
              0.6666666666666666,
              "#ed7953"
             ],
             [
              0.7777777777777778,
              "#fb9f3a"
             ],
             [
              0.8888888888888888,
              "#fdca26"
             ],
             [
              1,
              "#f0f921"
             ]
            ],
            "type": "contour"
           }
          ],
          "contourcarpet": [
           {
            "colorbar": {
             "outlinewidth": 0,
             "ticks": ""
            },
            "type": "contourcarpet"
           }
          ],
          "heatmap": [
           {
            "colorbar": {
             "outlinewidth": 0,
             "ticks": ""
            },
            "colorscale": [
             [
              0,
              "#0d0887"
             ],
             [
              0.1111111111111111,
              "#46039f"
             ],
             [
              0.2222222222222222,
              "#7201a8"
             ],
             [
              0.3333333333333333,
              "#9c179e"
             ],
             [
              0.4444444444444444,
              "#bd3786"
             ],
             [
              0.5555555555555556,
              "#d8576b"
             ],
             [
              0.6666666666666666,
              "#ed7953"
             ],
             [
              0.7777777777777778,
              "#fb9f3a"
             ],
             [
              0.8888888888888888,
              "#fdca26"
             ],
             [
              1,
              "#f0f921"
             ]
            ],
            "type": "heatmap"
           }
          ],
          "heatmapgl": [
           {
            "colorbar": {
             "outlinewidth": 0,
             "ticks": ""
            },
            "colorscale": [
             [
              0,
              "#0d0887"
             ],
             [
              0.1111111111111111,
              "#46039f"
             ],
             [
              0.2222222222222222,
              "#7201a8"
             ],
             [
              0.3333333333333333,
              "#9c179e"
             ],
             [
              0.4444444444444444,
              "#bd3786"
             ],
             [
              0.5555555555555556,
              "#d8576b"
             ],
             [
              0.6666666666666666,
              "#ed7953"
             ],
             [
              0.7777777777777778,
              "#fb9f3a"
             ],
             [
              0.8888888888888888,
              "#fdca26"
             ],
             [
              1,
              "#f0f921"
             ]
            ],
            "type": "heatmapgl"
           }
          ],
          "histogram": [
           {
            "marker": {
             "pattern": {
              "fillmode": "overlay",
              "size": 10,
              "solidity": 0.2
             }
            },
            "type": "histogram"
           }
          ],
          "histogram2d": [
           {
            "colorbar": {
             "outlinewidth": 0,
             "ticks": ""
            },
            "colorscale": [
             [
              0,
              "#0d0887"
             ],
             [
              0.1111111111111111,
              "#46039f"
             ],
             [
              0.2222222222222222,
              "#7201a8"
             ],
             [
              0.3333333333333333,
              "#9c179e"
             ],
             [
              0.4444444444444444,
              "#bd3786"
             ],
             [
              0.5555555555555556,
              "#d8576b"
             ],
             [
              0.6666666666666666,
              "#ed7953"
             ],
             [
              0.7777777777777778,
              "#fb9f3a"
             ],
             [
              0.8888888888888888,
              "#fdca26"
             ],
             [
              1,
              "#f0f921"
             ]
            ],
            "type": "histogram2d"
           }
          ],
          "histogram2dcontour": [
           {
            "colorbar": {
             "outlinewidth": 0,
             "ticks": ""
            },
            "colorscale": [
             [
              0,
              "#0d0887"
             ],
             [
              0.1111111111111111,
              "#46039f"
             ],
             [
              0.2222222222222222,
              "#7201a8"
             ],
             [
              0.3333333333333333,
              "#9c179e"
             ],
             [
              0.4444444444444444,
              "#bd3786"
             ],
             [
              0.5555555555555556,
              "#d8576b"
             ],
             [
              0.6666666666666666,
              "#ed7953"
             ],
             [
              0.7777777777777778,
              "#fb9f3a"
             ],
             [
              0.8888888888888888,
              "#fdca26"
             ],
             [
              1,
              "#f0f921"
             ]
            ],
            "type": "histogram2dcontour"
           }
          ],
          "mesh3d": [
           {
            "colorbar": {
             "outlinewidth": 0,
             "ticks": ""
            },
            "type": "mesh3d"
           }
          ],
          "parcoords": [
           {
            "line": {
             "colorbar": {
              "outlinewidth": 0,
              "ticks": ""
             }
            },
            "type": "parcoords"
           }
          ],
          "pie": [
           {
            "automargin": true,
            "type": "pie"
           }
          ],
          "scatter": [
           {
            "fillpattern": {
             "fillmode": "overlay",
             "size": 10,
             "solidity": 0.2
            },
            "type": "scatter"
           }
          ],
          "scatter3d": [
           {
            "line": {
             "colorbar": {
              "outlinewidth": 0,
              "ticks": ""
             }
            },
            "marker": {
             "colorbar": {
              "outlinewidth": 0,
              "ticks": ""
             }
            },
            "type": "scatter3d"
           }
          ],
          "scattercarpet": [
           {
            "marker": {
             "colorbar": {
              "outlinewidth": 0,
              "ticks": ""
             }
            },
            "type": "scattercarpet"
           }
          ],
          "scattergeo": [
           {
            "marker": {
             "colorbar": {
              "outlinewidth": 0,
              "ticks": ""
             }
            },
            "type": "scattergeo"
           }
          ],
          "scattergl": [
           {
            "marker": {
             "colorbar": {
              "outlinewidth": 0,
              "ticks": ""
             }
            },
            "type": "scattergl"
           }
          ],
          "scattermapbox": [
           {
            "marker": {
             "colorbar": {
              "outlinewidth": 0,
              "ticks": ""
             }
            },
            "type": "scattermapbox"
           }
          ],
          "scatterpolar": [
           {
            "marker": {
             "colorbar": {
              "outlinewidth": 0,
              "ticks": ""
             }
            },
            "type": "scatterpolar"
           }
          ],
          "scatterpolargl": [
           {
            "marker": {
             "colorbar": {
              "outlinewidth": 0,
              "ticks": ""
             }
            },
            "type": "scatterpolargl"
           }
          ],
          "scatterternary": [
           {
            "marker": {
             "colorbar": {
              "outlinewidth": 0,
              "ticks": ""
             }
            },
            "type": "scatterternary"
           }
          ],
          "surface": [
           {
            "colorbar": {
             "outlinewidth": 0,
             "ticks": ""
            },
            "colorscale": [
             [
              0,
              "#0d0887"
             ],
             [
              0.1111111111111111,
              "#46039f"
             ],
             [
              0.2222222222222222,
              "#7201a8"
             ],
             [
              0.3333333333333333,
              "#9c179e"
             ],
             [
              0.4444444444444444,
              "#bd3786"
             ],
             [
              0.5555555555555556,
              "#d8576b"
             ],
             [
              0.6666666666666666,
              "#ed7953"
             ],
             [
              0.7777777777777778,
              "#fb9f3a"
             ],
             [
              0.8888888888888888,
              "#fdca26"
             ],
             [
              1,
              "#f0f921"
             ]
            ],
            "type": "surface"
           }
          ],
          "table": [
           {
            "cells": {
             "fill": {
              "color": "#EBF0F8"
             },
             "line": {
              "color": "white"
             }
            },
            "header": {
             "fill": {
              "color": "#C8D4E3"
             },
             "line": {
              "color": "white"
             }
            },
            "type": "table"
           }
          ]
         },
         "layout": {
          "annotationdefaults": {
           "arrowcolor": "#2a3f5f",
           "arrowhead": 0,
           "arrowwidth": 1
          },
          "autotypenumbers": "strict",
          "coloraxis": {
           "colorbar": {
            "outlinewidth": 0,
            "ticks": ""
           }
          },
          "colorscale": {
           "diverging": [
            [
             0,
             "#8e0152"
            ],
            [
             0.1,
             "#c51b7d"
            ],
            [
             0.2,
             "#de77ae"
            ],
            [
             0.3,
             "#f1b6da"
            ],
            [
             0.4,
             "#fde0ef"
            ],
            [
             0.5,
             "#f7f7f7"
            ],
            [
             0.6,
             "#e6f5d0"
            ],
            [
             0.7,
             "#b8e186"
            ],
            [
             0.8,
             "#7fbc41"
            ],
            [
             0.9,
             "#4d9221"
            ],
            [
             1,
             "#276419"
            ]
           ],
           "sequential": [
            [
             0,
             "#0d0887"
            ],
            [
             0.1111111111111111,
             "#46039f"
            ],
            [
             0.2222222222222222,
             "#7201a8"
            ],
            [
             0.3333333333333333,
             "#9c179e"
            ],
            [
             0.4444444444444444,
             "#bd3786"
            ],
            [
             0.5555555555555556,
             "#d8576b"
            ],
            [
             0.6666666666666666,
             "#ed7953"
            ],
            [
             0.7777777777777778,
             "#fb9f3a"
            ],
            [
             0.8888888888888888,
             "#fdca26"
            ],
            [
             1,
             "#f0f921"
            ]
           ],
           "sequentialminus": [
            [
             0,
             "#0d0887"
            ],
            [
             0.1111111111111111,
             "#46039f"
            ],
            [
             0.2222222222222222,
             "#7201a8"
            ],
            [
             0.3333333333333333,
             "#9c179e"
            ],
            [
             0.4444444444444444,
             "#bd3786"
            ],
            [
             0.5555555555555556,
             "#d8576b"
            ],
            [
             0.6666666666666666,
             "#ed7953"
            ],
            [
             0.7777777777777778,
             "#fb9f3a"
            ],
            [
             0.8888888888888888,
             "#fdca26"
            ],
            [
             1,
             "#f0f921"
            ]
           ]
          },
          "colorway": [
           "#636efa",
           "#EF553B",
           "#00cc96",
           "#ab63fa",
           "#FFA15A",
           "#19d3f3",
           "#FF6692",
           "#B6E880",
           "#FF97FF",
           "#FECB52"
          ],
          "font": {
           "color": "#2a3f5f"
          },
          "geo": {
           "bgcolor": "white",
           "lakecolor": "white",
           "landcolor": "#E5ECF6",
           "showlakes": true,
           "showland": true,
           "subunitcolor": "white"
          },
          "hoverlabel": {
           "align": "left"
          },
          "hovermode": "closest",
          "mapbox": {
           "style": "light"
          },
          "paper_bgcolor": "white",
          "plot_bgcolor": "#E5ECF6",
          "polar": {
           "angularaxis": {
            "gridcolor": "white",
            "linecolor": "white",
            "ticks": ""
           },
           "bgcolor": "#E5ECF6",
           "radialaxis": {
            "gridcolor": "white",
            "linecolor": "white",
            "ticks": ""
           }
          },
          "scene": {
           "xaxis": {
            "backgroundcolor": "#E5ECF6",
            "gridcolor": "white",
            "gridwidth": 2,
            "linecolor": "white",
            "showbackground": true,
            "ticks": "",
            "zerolinecolor": "white"
           },
           "yaxis": {
            "backgroundcolor": "#E5ECF6",
            "gridcolor": "white",
            "gridwidth": 2,
            "linecolor": "white",
            "showbackground": true,
            "ticks": "",
            "zerolinecolor": "white"
           },
           "zaxis": {
            "backgroundcolor": "#E5ECF6",
            "gridcolor": "white",
            "gridwidth": 2,
            "linecolor": "white",
            "showbackground": true,
            "ticks": "",
            "zerolinecolor": "white"
           }
          },
          "shapedefaults": {
           "line": {
            "color": "#2a3f5f"
           }
          },
          "ternary": {
           "aaxis": {
            "gridcolor": "white",
            "linecolor": "white",
            "ticks": ""
           },
           "baxis": {
            "gridcolor": "white",
            "linecolor": "white",
            "ticks": ""
           },
           "bgcolor": "#E5ECF6",
           "caxis": {
            "gridcolor": "white",
            "linecolor": "white",
            "ticks": ""
           }
          },
          "title": {
           "x": 0.05
          },
          "xaxis": {
           "automargin": true,
           "gridcolor": "white",
           "linecolor": "white",
           "ticks": "",
           "title": {
            "standoff": 15
           },
           "zerolinecolor": "white",
           "zerolinewidth": 2
          },
          "yaxis": {
           "automargin": true,
           "gridcolor": "white",
           "linecolor": "white",
           "ticks": "",
           "title": {
            "standoff": 15
           },
           "zerolinecolor": "white",
           "zerolinewidth": 2
          }
         }
        },
        "title": {
         "text": "Données manquantes par colonne et edition"
        },
        "width": 1200,
        "xaxis": {
         "anchor": "y",
         "categoryarray": [
          "1960 Summer Olympics",
          "1960 Winter Olympics",
          "1964 Summer Olympics",
          "1964 Winter Olympics",
          "1968 Summer Olympics",
          "1968 Winter Olympics",
          "1972 Summer Olympics",
          "1972 Winter Olympics",
          "1976 Summer Olympics",
          "1976 Winter Olympics",
          "1980 Summer Olympics",
          "1980 Winter Olympics",
          "1984 Summer Olympics",
          "1984 Winter Olympics",
          "1988 Summer Olympics",
          "1988 Winter Olympics",
          "1992 Summer Olympics",
          "1992 Winter Olympics",
          "1994 Winter Olympics",
          "1996 Summer Olympics",
          "1998 Winter Olympics",
          "2000 Summer Olympics",
          "2002 Winter Olympics",
          "2004 Summer Olympics",
          "2006 Winter Olympics",
          "2008 Summer Olympics",
          "2010 Winter Olympics",
          "2012 Summer Olympics",
          "2014 Winter Olympics",
          "2016 Summer Olympics",
          "2018 Winter Olympics",
          "2020 Summer Olympics",
          "2022 Winter Olympics"
         ],
         "categoryorder": "array",
         "domain": [
          0,
          1
         ],
         "title": {
          "text": "edition"
         }
        },
        "yaxis": {
         "anchor": "x",
         "domain": [
          0,
          1
         ],
         "title": {
          "text": "Nombre de données manquantes"
         }
        }
       }
      }
     },
     "metadata": {},
     "output_type": "display_data"
    }
   ],
   "source": [
    "# Trier le DataFrame par ordre alphabétique de 'edition_x'\n",
    "df_sorted = df_phase_2.sort_values('edition')\n",
    "\n",
    "# Compter le nombre de données manquantes par colonne et edition_x\n",
    "missing_counts = df_sorted.groupby('edition').apply(lambda x: x.isna().sum())\n",
    "\n",
    "# Réorganiser les données pour le graphique à barres empilées\n",
    "stacked_data = missing_counts.stack().reset_index().rename(columns={0: 'Missing Count', 'level_1': 'Colonne'})\n",
    "\n",
    "# Définir l'ordre des colonnes pour l'empilement\n",
    "column_order = df.columns[1:]  # Exclure la colonne 'edition_x' du graphique\n",
    "\n",
    "# Créer le graphique à barres empilées interactif avec Plotly\n",
    "fig = px.bar(stacked_data, x='edition', y='Missing Count', color='Colonne', barmode='stack', category_orders={'edition': df_sorted['edition'].unique()}, color_discrete_sequence=px.colors.qualitative.Set1)\n",
    "\n",
    "# Ajouter une légende\n",
    "fig.update_layout(legend=dict(title='Colonnes'))\n",
    "\n",
    "# Définir les étiquettes d'axe et le titre\n",
    "fig.update_layout(xaxis=dict(title='edition'), yaxis=dict(title='Nombre de données manquantes'), title='Données manquantes par colonne et edition')\n",
    "\n",
    "# Ajuster la taille de la figure\n",
    "fig.update_layout(height=900, width=1200)\n",
    "\n",
    "# Afficher le graphique interactif\n",
    "fig.show()"
   ]
  },
  {
   "cell_type": "markdown",
   "metadata": {},
   "source": [
    ">>>*Nous remarquons que les colonnes les plus impactées sont 'born', 'height' et 'weight'*"
   ]
  },
  {
   "attachments": {},
   "cell_type": "markdown",
   "metadata": {},
   "source": [
    ">>>*Voyons si les données des athlètes ('born', 'height', 'weight') ne se trouvent pas ailleurs dans le DataFrame.*"
   ]
  },
  {
   "cell_type": "code",
   "execution_count": 30,
   "metadata": {},
   "outputs": [
    {
     "name": "stderr",
     "output_type": "stream",
     "text": [
      "C:\\Users\\capit\\AppData\\Local\\Temp\\ipykernel_1556\\2067906252.py:11: SettingWithCopyWarning:\n",
      "\n",
      "\n",
      "A value is trying to be set on a copy of a slice from a DataFrame.\n",
      "Try using .loc[row_indexer,col_indexer] = value instead\n",
      "\n",
      "See the caveats in the documentation: https://pandas.pydata.org/pandas-docs/stable/user_guide/indexing.html#returning-a-view-versus-a-copy\n",
      "\n"
     ]
    }
   ],
   "source": [
    "\"\"\"\n",
    "# Les méthodes ffill et bfill permettent de remplacer les valeurs manquantes dans un DataFrame (ffill: en avant et bfill: en arrière)\n",
    "df_temp = df_final\n",
    "df_temp['born'] = df_temp.groupby('athlete')['born'].transform(lambda x: x.ffill().bfill())\n",
    "df_temp['height'] = df_temp.groupby('athlete')['height'].transform(lambda x: x.ffill().bfill())\n",
    "df_temp['weight'] = df_temp.groupby('athlete')['weight'].transform(lambda x: x.ffill().bfill())\n",
    "\"\"\"\n",
    "\n",
    "# Version améliorée\n",
    "columns_to_fill = ['born', 'height', 'weight']\n",
    "df_phase_2[columns_to_fill] = df_phase_2.groupby('athlete')[columns_to_fill].transform(lambda x: x.fillna(method='ffill').fillna(method='bfill'))"
   ]
  },
  {
   "cell_type": "markdown",
   "metadata": {},
   "source": [
    ">>>*Effectuons plusieures passes afin de récupérer le maximum de données*"
   ]
  },
  {
   "cell_type": "code",
   "execution_count": 31,
   "metadata": {},
   "outputs": [
    {
     "name": "stderr",
     "output_type": "stream",
     "text": [
      "C:\\Users\\capit\\AppData\\Local\\Temp\\ipykernel_1556\\2873453015.py:3: SettingWithCopyWarning:\n",
      "\n",
      "\n",
      "A value is trying to be set on a copy of a slice from a DataFrame.\n",
      "Try using .loc[row_indexer,col_indexer] = value instead\n",
      "\n",
      "See the caveats in the documentation: https://pandas.pydata.org/pandas-docs/stable/user_guide/indexing.html#returning-a-view-versus-a-copy\n",
      "\n",
      "C:\\Users\\capit\\AppData\\Local\\Temp\\ipykernel_1556\\2873453015.py:4: SettingWithCopyWarning:\n",
      "\n",
      "\n",
      "A value is trying to be set on a copy of a slice from a DataFrame.\n",
      "Try using .loc[row_indexer,col_indexer] = value instead\n",
      "\n",
      "See the caveats in the documentation: https://pandas.pydata.org/pandas-docs/stable/user_guide/indexing.html#returning-a-view-versus-a-copy\n",
      "\n",
      "C:\\Users\\capit\\AppData\\Local\\Temp\\ipykernel_1556\\2873453015.py:8: SettingWithCopyWarning:\n",
      "\n",
      "\n",
      "A value is trying to be set on a copy of a slice from a DataFrame.\n",
      "Try using .loc[row_indexer,col_indexer] = value instead\n",
      "\n",
      "See the caveats in the documentation: https://pandas.pydata.org/pandas-docs/stable/user_guide/indexing.html#returning-a-view-versus-a-copy\n",
      "\n",
      "C:\\Users\\capit\\AppData\\Local\\Temp\\ipykernel_1556\\2873453015.py:9: SettingWithCopyWarning:\n",
      "\n",
      "\n",
      "A value is trying to be set on a copy of a slice from a DataFrame.\n",
      "Try using .loc[row_indexer,col_indexer] = value instead\n",
      "\n",
      "See the caveats in the documentation: https://pandas.pydata.org/pandas-docs/stable/user_guide/indexing.html#returning-a-view-versus-a-copy\n",
      "\n",
      "C:\\Users\\capit\\AppData\\Local\\Temp\\ipykernel_1556\\2873453015.py:13: SettingWithCopyWarning:\n",
      "\n",
      "\n",
      "A value is trying to be set on a copy of a slice from a DataFrame.\n",
      "Try using .loc[row_indexer,col_indexer] = value instead\n",
      "\n",
      "See the caveats in the documentation: https://pandas.pydata.org/pandas-docs/stable/user_guide/indexing.html#returning-a-view-versus-a-copy\n",
      "\n",
      "C:\\Users\\capit\\AppData\\Local\\Temp\\ipykernel_1556\\2873453015.py:14: SettingWithCopyWarning:\n",
      "\n",
      "\n",
      "A value is trying to be set on a copy of a slice from a DataFrame.\n",
      "Try using .loc[row_indexer,col_indexer] = value instead\n",
      "\n",
      "See the caveats in the documentation: https://pandas.pydata.org/pandas-docs/stable/user_guide/indexing.html#returning-a-view-versus-a-copy\n",
      "\n"
     ]
    }
   ],
   "source": [
    "# 1° passe:\n",
    "# Remplissage des NaN dans les colonnes 'height' et 'weight' par la médiane groupée par 'sport', 'event'et 'sex'\n",
    "df_phase_2['height'] = df_phase_2.groupby(['sport', 'event', 'sex'])['height'].transform(lambda x: x.fillna(x.median()))\n",
    "df_phase_2['weight'] = df_phase_2.groupby(['sport', 'event', 'sex'])['weight'].transform(lambda x: x.fillna(x.median()))\n",
    "\n",
    "# 2° passe:\n",
    "# Remplissage des NaN dans les colonnes 'height' et 'weight' par la médiane groupée par 'sport' et 'sex'\n",
    "df_phase_2['height'] = df_phase_2.groupby(['sport', 'sex'])['height'].transform(lambda x: x.fillna(x.median()))\n",
    "df_phase_2['weight'] = df_phase_2.groupby(['sport', 'sex'])['weight'].transform(lambda x: x.fillna(x.median()))\n",
    "\n",
    "# 3+ passe:\n",
    "# Remplissage des NaN dans les colonnes 'height' et 'weight' par la médiane groupée par 'sport'\n",
    "df_phase_2['height'] = df_phase_2.groupby(['sport'])['height'].transform(lambda x: x.fillna(x.median()))\n",
    "df_phase_2['weight'] = df_phase_2.groupby(['sport'])['weight'].transform(lambda x: x.fillna(x.median()))"
   ]
  },
  {
   "cell_type": "markdown",
   "metadata": {},
   "source": [
    ">>>### Conclusions Phase 2"
   ]
  },
  {
   "cell_type": "code",
   "execution_count": 32,
   "metadata": {},
   "outputs": [
    {
     "data": {
      "text/plain": [
       "edition               0\n",
       "ed_id                 0\n",
       "ed_year               0\n",
       "ed_type               0\n",
       "ed_city               0\n",
       "ed_noc                0\n",
       "ed_country            0\n",
       "competition_date      0\n",
       "sport                 0\n",
       "event                 0\n",
       "result_id             0\n",
       "athlete               0\n",
       "athl_id               0\n",
       "pos                   0\n",
       "isTeamSport           0\n",
       "sex                   0\n",
       "born                784\n",
       "height              143\n",
       "weight              143\n",
       "athl_country          0\n",
       "athl_noc              0\n",
       "dtype: int64"
      ]
     },
     "execution_count": 32,
     "metadata": {},
     "output_type": "execute_result"
    }
   ],
   "source": [
    "# Vérification du nombre de données manquantes\n",
    "df_phase_2.isna().sum()"
   ]
  },
  {
   "cell_type": "code",
   "execution_count": 33,
   "metadata": {},
   "outputs": [
    {
     "name": "stdout",
     "output_type": "stream",
     "text": [
      "Il y a 4976 valeurs manquantes de moins dans la colonne 'born' du deuxième DataFrame par rapport au premier.\n",
      "Il y a 86728 valeurs manquantes de moins dans la colonne 'height' du deuxième DataFrame par rapport au premier.\n",
      "Il y a 86728 valeurs manquantes de moins dans la colonne 'weight' du deuxième DataFrame par rapport au premier.\n"
     ]
    }
   ],
   "source": [
    "# Comptez les valeurs manquantes dans les colonnes 'born', 'height' et 'weight' des deux DataFrames\n",
    "missing_in_df1 = df_phase_1[['born', 'height', 'weight']].isna().sum()\n",
    "missing_in_df2 = df_phase_2[['born', 'height', 'weight']].isna().sum()\n",
    "\n",
    "# Calculez la différence\n",
    "difference_by_column = missing_in_df1 - missing_in_df2\n",
    "\n",
    "# Générez et imprimez la phrase pour chaque colonne\n",
    "for column, difference in difference_by_column.items():\n",
    "    print(f\"Il y a {abs(difference)} valeurs manquantes de moins dans la colonne '{column}' du deuxième DataFrame par rapport au premier.\")\n"
   ]
  },
  {
   "cell_type": "markdown",
   "metadata": {},
   "source": [
    ">>>*Nous avons récupérer quelques lignes...*"
   ]
  },
  {
   "cell_type": "code",
   "execution_count": 34,
   "metadata": {},
   "outputs": [
    {
     "name": "stdout",
     "output_type": "stream",
     "text": [
      "le nombre de lignes, après nettoyage, est de :  242281\n",
      "le nombre de colonnes, après nettoyage, est de :  21\n"
     ]
    }
   ],
   "source": [
    "# Affichage du nombre de lignes et de colonnes après le nettoyage\n",
    "num_rows,num_columns = df_phase_2.shape\n",
    "print(\"le nombre de lignes, après nettoyage, est de : \",num_rows)\n",
    "print(\"le nombre de colonnes, après nettoyage, est de : \",num_columns)"
   ]
  },
  {
   "cell_type": "code",
   "execution_count": 35,
   "metadata": {},
   "outputs": [
    {
     "data": {
      "text/plain": [
       "edition               0\n",
       "ed_id                 0\n",
       "ed_year               0\n",
       "ed_type               0\n",
       "ed_city               0\n",
       "ed_noc                0\n",
       "ed_country            0\n",
       "competition_date      0\n",
       "sport                 0\n",
       "event                 0\n",
       "result_id             0\n",
       "athlete               0\n",
       "athl_id               0\n",
       "pos                   0\n",
       "isTeamSport           0\n",
       "sex                   0\n",
       "born                784\n",
       "height              143\n",
       "weight              143\n",
       "athl_country          0\n",
       "athl_noc              0\n",
       "dtype: int64"
      ]
     },
     "execution_count": 35,
     "metadata": {},
     "output_type": "execute_result"
    }
   ],
   "source": [
    "# Calcul du nombre de valeurs manquantes ('NaN')\n",
    "df_phase_2.isna().sum()\n"
   ]
  },
  {
   "cell_type": "code",
   "execution_count": 36,
   "metadata": {},
   "outputs": [
    {
     "name": "stdout",
     "output_type": "stream",
     "text": [
      "Il y a 0.02 % de données manquantes sur le DataFrame.\n"
     ]
    }
   ],
   "source": [
    "# Calcul du pourcentage de valeurs manquantes ( soit 'NaN' soit 'na')\n",
    "nan_percentage = df_phase_2.isna().sum().sum() / (df_phase_2.shape[0] * df_phase_2.shape[1]) * 100\n",
    "na_percentage = (df_phase_2 == 'na').sum().sum() / (df_phase_2.shape[0] * df_phase_2.shape[1]) * 100\n",
    "\n",
    "total_percentage = nan_percentage + na_percentage\n",
    "\n",
    "# Génération de la phrase avec arrondi à 2 chiffres\n",
    "phrase = \"Il y a {:.2f} % de données manquantes sur le DataFrame.\".format(total_percentage)\n",
    "\n",
    "print(phrase)"
   ]
  },
  {
   "cell_type": "code",
   "execution_count": 37,
   "metadata": {},
   "outputs": [
    {
     "data": {
      "image/png": "[encoded data removed]",
      "text/plain": [
       "<Figure size 1000x600 with 1 Axes>"
      ]
     },
     "metadata": {},
     "output_type": "display_data"
    }
   ],
   "source": [
    "# Calculer le pourcentage total de données manquantes par groupe\n",
    "missing_percentage_total = df_phase_2.groupby('edition').apply(lambda x: x.isna().sum().sum()/ x.size)*100\n",
    "\n",
    "# Calculer la médiane globale\n",
    "median_percentage = missing_percentage_total.median()\n",
    "\n",
    "# Calculer la moyenne globale\n",
    "mean_percentage = missing_percentage_total.mean()\n",
    "\n",
    "# Créer le graphique à barres\n",
    "plt.figure(figsize=(10, 6))\n",
    "plt.bar(missing_percentage_total.index, missing_percentage_total.values)\n",
    "plt.xlabel('edition')\n",
    "plt.ylabel('Pourcentage de données manquantes')\n",
    "plt.title('Pourcentage de données manquantes par groupe')\n",
    "\n",
    "# Mettre les étiquettes à la verticale\n",
    "plt.xticks(rotation='vertical')\n",
    "\n",
    "# Ajouter une ligne pour la moyenne globale\n",
    "plt.axhline(median_percentage, color='purple', linestyle='--', label='Mediane')\n",
    "plt.axhline(mean_percentage, color='r', linestyle='--', label='Moyenne globale')\n",
    "plt.legend()\n",
    "\n",
    "plt.text(len(missing_percentage_total)/1.25, median_percentage+0.15, f\"Mediane: {median_percentage:.2f}%\", ha='center', color='purple')\n",
    "plt.text(len(missing_percentage_total)/1.25, mean_percentage+0.15, f\"Moyenne: {mean_percentage:.2f}%\", ha='center', color='red')\n",
    "\n",
    "\n",
    "plt.bar(missing_percentage_total.index, missing_percentage_total.values,color= '#329999')\n",
    "\n",
    "# Afficher le graphique\n",
    "plt.show()"
   ]
  },
  {
   "cell_type": "code",
   "execution_count": 38,
   "metadata": {},
   "outputs": [
    {
     "data": {
      "image/png": "[encoded data removed]",
      "text/plain": [
       "<Figure size 1000x600 with 1 Axes>"
      ]
     },
     "metadata": {},
     "output_type": "display_data"
    }
   ],
   "source": [
    "# Calculer l'intervalle de confiance\n",
    "confidence_interval = 1.96 * missing_percentage_total.std() / np.sqrt(len(missing_percentage_total))\n",
    "\n",
    "# Créer le graphique à barres\n",
    "plt.figure(figsize=(10, 6))\n",
    "plt.bar(missing_percentage_total.index, missing_percentage_total.values, color='#329999')\n",
    "plt.xlabel('edition')\n",
    "plt.ylabel('Pourcentage de données manquantes')\n",
    "plt.title('Pourcentage de données manquantes par groupe')\n",
    "\n",
    "# Mettre les étiquettes à la verticale\n",
    "plt.xticks(rotation='vertical')\n",
    "\n",
    "# Ajouter une ligne pour la médiane\n",
    "plt.axhline(median_percentage, color='purple', linestyle='--', label='Mediane')\n",
    "\n",
    "# Ajouter une ligne pour la moyenne\n",
    "plt.axhline(mean_percentage, color='r', linestyle='--', label='Moyenne globale')\n",
    "\n",
    "plt.text(len(missing_percentage_total)/1.25, median_percentage+0.15, f\"Mediane: {median_percentage:.2f}%\", ha='center', color='purple')\n",
    "plt.text(len(missing_percentage_total)/1.25, mean_percentage+0.15, f\"Moyenne: {mean_percentage:.2f}%\", ha='center', color='red')\n",
    "\n",
    "# Ajouter la zone grise de l'intervalle de confiance\n",
    "plt.fill_between(missing_percentage_total.index, mean_percentage - confidence_interval, mean_percentage + confidence_interval, color='gray', alpha=0.4, label='Intervalle de confiance (95%)')\n",
    "\n",
    "# Afficher les légendes\n",
    "plt.legend()\n",
    "\n",
    "# Afficher le graphique\n",
    "plt.show()\n"
   ]
  },
  {
   "cell_type": "markdown",
   "metadata": {},
   "source": [
    "************************************\n",
    "\n",
    "************************************"
   ]
  },
  {
   "attachments": {},
   "cell_type": "markdown",
   "metadata": {},
   "source": [
    "># MACHINE LEARNING"
   ]
  },
  {
   "attachments": {},
   "cell_type": "markdown",
   "metadata": {},
   "source": [
    ">>## Préparation des données pour le Machine learning"
   ]
  },
  {
   "cell_type": "markdown",
   "metadata": {},
   "source": [
    ">>>### Tri du DataFrame"
   ]
  },
  {
   "cell_type": "code",
   "execution_count": 39,
   "metadata": {},
   "outputs": [],
   "source": [
    "df_ML = df_phase_2.sort_values(['athl_id','event', 'ed_id'])"
   ]
  },
  {
   "cell_type": "markdown",
   "metadata": {},
   "source": [
    ">>>### Création de nouvelles mesures"
   ]
  },
  {
   "attachments": {},
   "cell_type": "markdown",
   "metadata": {},
   "source": [
    ">>>>#### Age"
   ]
  },
  {
   "cell_type": "code",
   "execution_count": 40,
   "metadata": {},
   "outputs": [],
   "source": [
    "# Transformation de la colonne 'born' afin d'extraire  l'année et en déduire l'âge\n",
    "\n",
    "# Fonction personnalisée pour extraire le premier groupe de 4 chiffres trouvés dans la valeur\n",
    "def extract_byear(value):\n",
    "    match = re.search(r'\\d{4}', str(value))\n",
    "    if match:\n",
    "        return match.group()\n",
    "    return np.nan\n",
    "\n",
    "# Insérer la nouvelle colonne 'bYear' en 16° position\n",
    "df_ML.insert(17, 'b_year', '')\n",
    "# Appliquer la fonction personnalisée à la colonne 'born' et stocker le résultat dans la colonne 'byear'\n",
    "df_ML['b_year'] = df_ML['born'].apply(extract_byear)\n",
    "\n",
    "# Transformer la colonne 'bYear' en type(float)\n",
    "df_ML['b_year'] = df_ML['b_year'].astype(float)\n",
    "\n",
    "# Insérer la nouvelle colonne 'Age' en 17° position\n",
    "df_ML.insert(18, 'age', '')\n",
    "df_ML['age'] = (df_ML['ed_year']-df_ML['b_year'])"
   ]
  },
  {
   "cell_type": "markdown",
   "metadata": {},
   "source": [
    ">>>> *Il y a des données manquantes dans la colonne born, ce qui va poser des problèmes pour l'âge.<br>\n",
    ">>>> Nous procédons donc à plusieures passes afin de retirer les valeurs manquantes.*"
   ]
  },
  {
   "cell_type": "code",
   "execution_count": 41,
   "metadata": {},
   "outputs": [],
   "source": [
    "# 1° passe:\n",
    "# Remplissage des NaN dans les colonnes 'height' et 'weight' par la médiane groupée par 'sport', 'event'et 'sex'\n",
    "df_ML['age'] = df_ML.groupby(['sport', 'event', 'sex'])['age'].transform(lambda x: x.fillna(x.median()))\n",
    "\n",
    "# 2° passe:\n",
    "# Remplissage des NaN dans les colonnes 'height' et 'weight' par la médiane groupée par 'sport' et 'sex'\n",
    "df_ML['age'] = df_ML.groupby(['sport', 'sex'])['age'].transform(lambda x: x.fillna(x.median()))\n",
    "\n",
    "# 3+ passe:\n",
    "# Remplissage des NaN dans les colonnes 'height' et 'weight' par la médiane groupée par 'sport'\n",
    "df_ML['age'] = df_ML.groupby(['sport'])['age'].transform(lambda x: x.fillna(x.median()))"
   ]
  },
  {
   "cell_type": "code",
   "execution_count": 42,
   "metadata": {},
   "outputs": [
    {
     "data": {
      "text/plain": [
       "edition               0\n",
       "ed_id                 0\n",
       "ed_year               0\n",
       "ed_type               0\n",
       "ed_city               0\n",
       "ed_noc                0\n",
       "ed_country            0\n",
       "competition_date      0\n",
       "sport                 0\n",
       "event                 0\n",
       "result_id             0\n",
       "athlete               0\n",
       "athl_id               0\n",
       "pos                   0\n",
       "isTeamSport           0\n",
       "sex                   0\n",
       "born                784\n",
       "b_year              803\n",
       "age                   0\n",
       "height              143\n",
       "weight              143\n",
       "athl_country          0\n",
       "athl_noc              0\n",
       "dtype: int64"
      ]
     },
     "execution_count": 42,
     "metadata": {},
     "output_type": "execute_result"
    }
   ],
   "source": [
    "# Calcul du nombre de données manquantes\n",
    "df_ML.isna().sum()"
   ]
  },
  {
   "cell_type": "code",
   "execution_count": 43,
   "metadata": {},
   "outputs": [
    {
     "data": {
      "text/html": [
       "<div>\n",
       "<style scoped>\n",
       "    .dataframe tbody tr th:only-of-type {\n",
       "        vertical-align: middle;\n",
       "    }\n",
       "\n",
       "    .dataframe tbody tr th {\n",
       "        vertical-align: top;\n",
       "    }\n",
       "\n",
       "    .dataframe thead th {\n",
       "        text-align: right;\n",
       "    }\n",
       "</style>\n",
       "<table border=\"1\" class=\"dataframe\">\n",
       "  <thead>\n",
       "    <tr style=\"text-align: right;\">\n",
       "      <th></th>\n",
       "      <th>edition</th>\n",
       "      <th>ed_id</th>\n",
       "      <th>ed_year</th>\n",
       "      <th>ed_type</th>\n",
       "      <th>ed_city</th>\n",
       "      <th>ed_noc</th>\n",
       "      <th>ed_country</th>\n",
       "      <th>competition_date</th>\n",
       "      <th>sport</th>\n",
       "      <th>event</th>\n",
       "      <th>result_id</th>\n",
       "      <th>athlete</th>\n",
       "      <th>athl_id</th>\n",
       "      <th>pos</th>\n",
       "      <th>isTeamSport</th>\n",
       "      <th>sex</th>\n",
       "      <th>born</th>\n",
       "      <th>b_year</th>\n",
       "      <th>age</th>\n",
       "      <th>height</th>\n",
       "      <th>weight</th>\n",
       "      <th>athl_country</th>\n",
       "      <th>athl_noc</th>\n",
       "    </tr>\n",
       "  </thead>\n",
       "  <tbody>\n",
       "    <tr>\n",
       "      <th>163410</th>\n",
       "      <td>1996 Summer Olympics</td>\n",
       "      <td>24</td>\n",
       "      <td>1996</td>\n",
       "      <td>Summer</td>\n",
       "      <td>Atlanta</td>\n",
       "      <td>USA</td>\n",
       "      <td>United States</td>\n",
       "      <td>20 July –  4 August</td>\n",
       "      <td>Tennis</td>\n",
       "      <td>Doubles, Men</td>\n",
       "      <td>45511.0</td>\n",
       "      <td>Arnaud Boetsch</td>\n",
       "      <td>2.0</td>\n",
       "      <td>=17</td>\n",
       "      <td>True</td>\n",
       "      <td>Male</td>\n",
       "      <td>1969-04-01</td>\n",
       "      <td>1969.0</td>\n",
       "      <td>27.0</td>\n",
       "      <td>183.0</td>\n",
       "      <td>76.0</td>\n",
       "      <td>France</td>\n",
       "      <td>FRA</td>\n",
       "    </tr>\n",
       "    <tr>\n",
       "      <th>163408</th>\n",
       "      <td>1996 Summer Olympics</td>\n",
       "      <td>24</td>\n",
       "      <td>1996</td>\n",
       "      <td>Summer</td>\n",
       "      <td>Atlanta</td>\n",
       "      <td>USA</td>\n",
       "      <td>United States</td>\n",
       "      <td>20 July –  4 August</td>\n",
       "      <td>Tennis</td>\n",
       "      <td>Singles, Men</td>\n",
       "      <td>45440.0</td>\n",
       "      <td>Arnaud Boetsch</td>\n",
       "      <td>2.0</td>\n",
       "      <td>=17</td>\n",
       "      <td>False</td>\n",
       "      <td>Male</td>\n",
       "      <td>1969-04-01</td>\n",
       "      <td>1969.0</td>\n",
       "      <td>27.0</td>\n",
       "      <td>183.0</td>\n",
       "      <td>76.0</td>\n",
       "      <td>France</td>\n",
       "      <td>FRA</td>\n",
       "    </tr>\n",
       "    <tr>\n",
       "      <th>149497</th>\n",
       "      <td>1992 Summer Olympics</td>\n",
       "      <td>23</td>\n",
       "      <td>1992</td>\n",
       "      <td>Summer</td>\n",
       "      <td>Barcelona</td>\n",
       "      <td>ESP</td>\n",
       "      <td>Spain</td>\n",
       "      <td>24 July –  9 August</td>\n",
       "      <td>Table Tennis</td>\n",
       "      <td>Doubles, Men</td>\n",
       "      <td>47282.0</td>\n",
       "      <td>Nicolas Chatelain</td>\n",
       "      <td>6.0</td>\n",
       "      <td>=17</td>\n",
       "      <td>True</td>\n",
       "      <td>Male</td>\n",
       "      <td>1970-01-13</td>\n",
       "      <td>1970.0</td>\n",
       "      <td>22.0</td>\n",
       "      <td>181.0</td>\n",
       "      <td>70.0</td>\n",
       "      <td>France</td>\n",
       "      <td>FRA</td>\n",
       "    </tr>\n",
       "    <tr>\n",
       "      <th>149494</th>\n",
       "      <td>1992 Summer Olympics</td>\n",
       "      <td>23</td>\n",
       "      <td>1992</td>\n",
       "      <td>Summer</td>\n",
       "      <td>Barcelona</td>\n",
       "      <td>ESP</td>\n",
       "      <td>Spain</td>\n",
       "      <td>24 July –  9 August</td>\n",
       "      <td>Table Tennis</td>\n",
       "      <td>Singles, Men</td>\n",
       "      <td>47135.0</td>\n",
       "      <td>Nicolas Chatelain</td>\n",
       "      <td>6.0</td>\n",
       "      <td>=33</td>\n",
       "      <td>False</td>\n",
       "      <td>Male</td>\n",
       "      <td>1970-01-13</td>\n",
       "      <td>1970.0</td>\n",
       "      <td>22.0</td>\n",
       "      <td>181.0</td>\n",
       "      <td>70.0</td>\n",
       "      <td>France</td>\n",
       "      <td>FRA</td>\n",
       "    </tr>\n",
       "    <tr>\n",
       "      <th>149498</th>\n",
       "      <td>1992 Summer Olympics</td>\n",
       "      <td>23</td>\n",
       "      <td>1992</td>\n",
       "      <td>Summer</td>\n",
       "      <td>Barcelona</td>\n",
       "      <td>ESP</td>\n",
       "      <td>Spain</td>\n",
       "      <td>24 July –  9 August</td>\n",
       "      <td>Table Tennis</td>\n",
       "      <td>Doubles, Men</td>\n",
       "      <td>47282.0</td>\n",
       "      <td>Patrick Chila</td>\n",
       "      <td>7.0</td>\n",
       "      <td>=17</td>\n",
       "      <td>True</td>\n",
       "      <td>Male</td>\n",
       "      <td>1969-11-27</td>\n",
       "      <td>1969.0</td>\n",
       "      <td>23.0</td>\n",
       "      <td>180.0</td>\n",
       "      <td>73.0</td>\n",
       "      <td>France</td>\n",
       "      <td>FRA</td>\n",
       "    </tr>\n",
       "  </tbody>\n",
       "</table>\n",
       "</div>"
      ],
      "text/plain": [
       "                     edition  ed_id  ed_year ed_type    ed_city ed_noc  \\\n",
       "163410  1996 Summer Olympics     24     1996  Summer    Atlanta    USA   \n",
       "163408  1996 Summer Olympics     24     1996  Summer    Atlanta    USA   \n",
       "149497  1992 Summer Olympics     23     1992  Summer  Barcelona    ESP   \n",
       "149494  1992 Summer Olympics     23     1992  Summer  Barcelona    ESP   \n",
       "149498  1992 Summer Olympics     23     1992  Summer  Barcelona    ESP   \n",
       "\n",
       "           ed_country     competition_date         sport         event  \\\n",
       "163410  United States  20 July –  4 August        Tennis  Doubles, Men   \n",
       "163408  United States  20 July –  4 August        Tennis  Singles, Men   \n",
       "149497          Spain  24 July –  9 August  Table Tennis  Doubles, Men   \n",
       "149494          Spain  24 July –  9 August  Table Tennis  Singles, Men   \n",
       "149498          Spain  24 July –  9 August  Table Tennis  Doubles, Men   \n",
       "\n",
       "        result_id            athlete  athl_id  pos isTeamSport   sex  \\\n",
       "163410    45511.0     Arnaud Boetsch      2.0  =17        True  Male   \n",
       "163408    45440.0     Arnaud Boetsch      2.0  =17       False  Male   \n",
       "149497    47282.0  Nicolas Chatelain      6.0  =17        True  Male   \n",
       "149494    47135.0  Nicolas Chatelain      6.0  =33       False  Male   \n",
       "149498    47282.0      Patrick Chila      7.0  =17        True  Male   \n",
       "\n",
       "              born  b_year   age  height  weight athl_country athl_noc  \n",
       "163410  1969-04-01  1969.0  27.0   183.0    76.0       France      FRA  \n",
       "163408  1969-04-01  1969.0  27.0   183.0    76.0       France      FRA  \n",
       "149497  1970-01-13  1970.0  22.0   181.0    70.0       France      FRA  \n",
       "149494  1970-01-13  1970.0  22.0   181.0    70.0       France      FRA  \n",
       "149498  1969-11-27  1969.0  23.0   180.0    73.0       France      FRA  "
      ]
     },
     "execution_count": 43,
     "metadata": {},
     "output_type": "execute_result"
    }
   ],
   "source": [
    "# Visualisation du résultat\n",
    "df_ML.head()"
   ]
  },
  {
   "cell_type": "markdown",
   "metadata": {},
   "source": [
    ">>>>#### Final_rank"
   ]
  },
  {
   "attachments": {},
   "cell_type": "markdown",
   "metadata": {},
   "source": [
    "* Transformation de la colonne 'pos' en 'f_rank' et 'q_rank' pour différencier les rangs en finales des rangs en qualifications "
   ]
  },
  {
   "cell_type": "code",
   "execution_count": 44,
   "metadata": {},
   "outputs": [],
   "source": [
    "\n",
    "# Fonction pour extraire les données numériques de la colonne 'pos'\n",
    "def extract_numeric_rank(value):\n",
    "    if pd.isnull(value):\n",
    "        return None\n",
    "    if isinstance(value, int):\n",
    "        return value\n",
    "    if isinstance(value, str):\n",
    "        # Vérifier si la valeur commence par '='\n",
    "        if value.startswith('='):\n",
    "            # Extraire les chiffres de la valeur (en ignorant les caractères non numériques)\n",
    "            numeric_chars = ''.join(filter(str.isdigit, value))\n",
    "            if numeric_chars:\n",
    "                return int(numeric_chars)\n",
    "        if value.isdigit():\n",
    "            return int(value)\n",
    "    return None\n",
    "\n",
    "# Appliquer la fonction sur la colonne 'pos' pour créer la colonne 'f_rank'\n",
    "df_ML['f_rank'] = df_ML['pos'].apply(extract_numeric_rank)\n",
    "\n",
    "# Remplacer les 'f_rank' manquants par 999\n",
    "df_ML['f_rank'] = df_ML['f_rank'].fillna(999)\n",
    "\n",
    "\"\"\"\n",
    "# Pas retenu dans notre façon de procéder. (A étudier pour plus tard)\n",
    "# Créer la colonne 'other_rank' avec les autres données de la colonne 'pos'\n",
    "df_final['q_rank'] = df_final['pos'].apply(lambda x: x if pd.isnull(extract_numeric_rank(x)) else None)\n",
    "\"\"\"\n",
    "\n",
    "# Insertion des colonnes à la position souhaitée\n",
    "after_column = 'pos'\n",
    "column_index = df_ML.columns.get_loc(after_column)\n",
    "\n",
    "#df_final.insert(column_index +1, 'q_rank', df_final.pop('q_rank'))\n",
    "df_ML.insert(column_index +1, 'f_rank', df_ML.pop('f_rank'))\n",
    "\n"
   ]
  },
  {
   "cell_type": "markdown",
   "metadata": {},
   "source": [
    ">>>>#### Features supplémentaires"
   ]
  },
  {
   "cell_type": "code",
   "execution_count": 45,
   "metadata": {},
   "outputs": [
    {
     "name": "stderr",
     "output_type": "stream",
     "text": [
      "C:\\Users\\capit\\AppData\\Local\\Temp\\ipykernel_1556\\3372452836.py:15: FutureWarning:\n",
      "\n",
      "Not prepending group keys to the result index of transform-like apply. In the future, the group keys will be included in the index, regardless of whether the applied function returns a like-indexed object.\n",
      "To preserve the previous behavior, use\n",
      "\n",
      "\t>>> .groupby(..., group_keys=False)\n",
      "\n",
      "To adopt the future behavior and silence this warning, use \n",
      "\n",
      "\t>>> .groupby(..., group_keys=True)\n",
      "\n"
     ]
    }
   ],
   "source": [
    "# Fonction pour ajouter la colonne 'nb_participation'\n",
    "def calculate_nb_participation(df):\n",
    "    df['nb_participation'] = df.groupby(['athl_id', 'event']).cumcount()\n",
    "    return df\n",
    "\n",
    "# Fonction pour ajouter la colonne 'rank_n1'\n",
    "def calculate_rank_n1(df):\n",
    "    df['rank_n1'] = df.groupby(['athl_id', 'event'])['f_rank'].shift().fillna(np.inf)\n",
    "    df['rank_n1'] = df.groupby(['athl_id'])['rank_n1'].transform(lambda x: x.min() if np.isinf(x.min()) else x)\n",
    "    return df\n",
    "\n",
    "# Fonction pour ajouter la colonne 'best_rank'\n",
    "def calculate_best_rank(df):\n",
    "    df['best_rank'] = df.groupby(['athl_id', 'event'])['f_rank'].shift().fillna(np.inf)\n",
    "    df['best_rank'] = df.groupby(['athl_id', 'event'])['best_rank'].apply(lambda x: x if np.isinf(x.min()) else x.expanding().min())\n",
    "    df['best_rank'] = df['best_rank'].fillna(np.inf)\n",
    "    return df\n",
    "\n",
    "\n",
    "# Fonction pour ajouter la colonne 'medal_n'\n",
    "def calculate_medal_n(df):\n",
    "    df['medal_n'] = df['f_rank'] <= 3\n",
    "    df['medal_n'] = df['medal_n'].astype(int)\n",
    "    return df\n",
    "\n",
    "# Fonction pour ajouter la colonne 'medal_n1'\n",
    "def calculate_medal_n1(df):\n",
    "    df['medal_n1'] = df.groupby(['athl_id', 'event'])['f_rank'].shift() <= 3\n",
    "    df['medal_n1'] = df['medal_n1'].astype(int)\n",
    "    return df\n",
    "\n",
    "# Fonction pour ajouter la colonne 'total_medals'\n",
    "def calculate_total_medals(df):\n",
    "    df['total_medals'] = df[df['f_rank'].shift() <= 3].groupby(['athl_id', 'event'])['medal_n1'].cumsum()\n",
    "    df['total_medals'] = df['total_medals'].fillna(0)\n",
    "    return df\n",
    "\n",
    "# Appliquer les calculs en utilisant transform\n",
    "df_ML = calculate_nb_participation(df_ML)\n",
    "df_ML = calculate_rank_n1(df_ML)\n",
    "df_ML = calculate_best_rank(df_ML)\n",
    "df_ML = calculate_medal_n(df_ML)\n",
    "df_ML = calculate_medal_n1(df_ML)\n",
    "df_ML = calculate_total_medals(df_ML)\n",
    "\n",
    "\n",
    "# Réinitialiser l'index\n",
    "df_ML.reset_index(drop=True, inplace=True)"
   ]
  },
  {
   "cell_type": "markdown",
   "metadata": {},
   "source": [
    ">>>>#### Supression des données inutiles"
   ]
  },
  {
   "cell_type": "code",
   "execution_count": 46,
   "metadata": {},
   "outputs": [],
   "source": [
    "# Suppression des sports d'équipe\n",
    "df_final = df_ML[df_ML['isTeamSport'] == False]\n"
   ]
  },
  {
   "cell_type": "code",
   "execution_count": 47,
   "metadata": {},
   "outputs": [],
   "source": [
    "# Suppression des colonnes indésirables\n",
    "cols_to_drop = ['edition', \n",
    "                #'ed_id', \n",
    "                'ed_city', \n",
    "                'ed_noc', \n",
    "                'competition_date',\n",
    "                #'result_id', \n",
    "                #'athlete', \n",
    "                #'athl_id', \n",
    "                'pos', \n",
    "                'isTeamSport',\n",
    "                'born',\n",
    "                'b_year', \n",
    "                'athl_noc']\n",
    "                \n",
    "df_final = df_final.drop(columns=cols_to_drop)"
   ]
  },
  {
   "cell_type": "code",
   "execution_count": 48,
   "metadata": {},
   "outputs": [],
   "source": [
    "\n",
    "# Réinitialisation de l'index\n",
    "df_final.reset_index(drop=True, inplace=True)\n",
    "\n",
    "df_final = df_final.sort_values(['athl_id','event', 'ed_id'])\n"
   ]
  },
  {
   "cell_type": "code",
   "execution_count": 49,
   "metadata": {},
   "outputs": [
    {
     "data": {
      "text/html": [
       "<div>\n",
       "<style scoped>\n",
       "    .dataframe tbody tr th:only-of-type {\n",
       "        vertical-align: middle;\n",
       "    }\n",
       "\n",
       "    .dataframe tbody tr th {\n",
       "        vertical-align: top;\n",
       "    }\n",
       "\n",
       "    .dataframe thead th {\n",
       "        text-align: right;\n",
       "    }\n",
       "</style>\n",
       "<table border=\"1\" class=\"dataframe\">\n",
       "  <thead>\n",
       "    <tr style=\"text-align: right;\">\n",
       "      <th></th>\n",
       "      <th>ed_id</th>\n",
       "      <th>ed_year</th>\n",
       "      <th>ed_type</th>\n",
       "      <th>ed_country</th>\n",
       "      <th>sport</th>\n",
       "      <th>event</th>\n",
       "      <th>result_id</th>\n",
       "      <th>athlete</th>\n",
       "      <th>athl_id</th>\n",
       "      <th>f_rank</th>\n",
       "      <th>sex</th>\n",
       "      <th>age</th>\n",
       "      <th>height</th>\n",
       "      <th>weight</th>\n",
       "      <th>athl_country</th>\n",
       "      <th>nb_participation</th>\n",
       "      <th>rank_n1</th>\n",
       "      <th>best_rank</th>\n",
       "      <th>medal_n</th>\n",
       "      <th>medal_n1</th>\n",
       "      <th>total_medals</th>\n",
       "    </tr>\n",
       "  </thead>\n",
       "  <tbody>\n",
       "    <tr>\n",
       "      <th>0</th>\n",
       "      <td>24</td>\n",
       "      <td>1996</td>\n",
       "      <td>Summer</td>\n",
       "      <td>United States</td>\n",
       "      <td>Tennis</td>\n",
       "      <td>Singles, Men</td>\n",
       "      <td>45440.0</td>\n",
       "      <td>Arnaud Boetsch</td>\n",
       "      <td>2.0</td>\n",
       "      <td>17.0</td>\n",
       "      <td>Male</td>\n",
       "      <td>27.0</td>\n",
       "      <td>183.0</td>\n",
       "      <td>76.0</td>\n",
       "      <td>France</td>\n",
       "      <td>0</td>\n",
       "      <td>inf</td>\n",
       "      <td>inf</td>\n",
       "      <td>0</td>\n",
       "      <td>0</td>\n",
       "      <td>0.0</td>\n",
       "    </tr>\n",
       "    <tr>\n",
       "      <th>1</th>\n",
       "      <td>23</td>\n",
       "      <td>1992</td>\n",
       "      <td>Summer</td>\n",
       "      <td>Spain</td>\n",
       "      <td>Table Tennis</td>\n",
       "      <td>Singles, Men</td>\n",
       "      <td>47135.0</td>\n",
       "      <td>Nicolas Chatelain</td>\n",
       "      <td>6.0</td>\n",
       "      <td>33.0</td>\n",
       "      <td>Male</td>\n",
       "      <td>22.0</td>\n",
       "      <td>181.0</td>\n",
       "      <td>70.0</td>\n",
       "      <td>France</td>\n",
       "      <td>0</td>\n",
       "      <td>inf</td>\n",
       "      <td>inf</td>\n",
       "      <td>0</td>\n",
       "      <td>0</td>\n",
       "      <td>0.0</td>\n",
       "    </tr>\n",
       "    <tr>\n",
       "      <th>2</th>\n",
       "      <td>24</td>\n",
       "      <td>1996</td>\n",
       "      <td>Summer</td>\n",
       "      <td>United States</td>\n",
       "      <td>Table Tennis</td>\n",
       "      <td>Singles, Men</td>\n",
       "      <td>47562.0</td>\n",
       "      <td>Patrick Chila</td>\n",
       "      <td>7.0</td>\n",
       "      <td>9.0</td>\n",
       "      <td>Male</td>\n",
       "      <td>27.0</td>\n",
       "      <td>180.0</td>\n",
       "      <td>73.0</td>\n",
       "      <td>France</td>\n",
       "      <td>0</td>\n",
       "      <td>inf</td>\n",
       "      <td>inf</td>\n",
       "      <td>0</td>\n",
       "      <td>0</td>\n",
       "      <td>0.0</td>\n",
       "    </tr>\n",
       "    <tr>\n",
       "      <th>3</th>\n",
       "      <td>26</td>\n",
       "      <td>2004</td>\n",
       "      <td>Summer</td>\n",
       "      <td>Greece</td>\n",
       "      <td>Table Tennis</td>\n",
       "      <td>Singles, Men</td>\n",
       "      <td>48369.0</td>\n",
       "      <td>Patrick Chila</td>\n",
       "      <td>7.0</td>\n",
       "      <td>17.0</td>\n",
       "      <td>Male</td>\n",
       "      <td>35.0</td>\n",
       "      <td>180.0</td>\n",
       "      <td>73.0</td>\n",
       "      <td>France</td>\n",
       "      <td>1</td>\n",
       "      <td>9.0</td>\n",
       "      <td>9.0</td>\n",
       "      <td>0</td>\n",
       "      <td>0</td>\n",
       "      <td>0.0</td>\n",
       "    </tr>\n",
       "    <tr>\n",
       "      <th>4</th>\n",
       "      <td>53</td>\n",
       "      <td>2008</td>\n",
       "      <td>Summer</td>\n",
       "      <td>People's Republic of China</td>\n",
       "      <td>Table Tennis</td>\n",
       "      <td>Singles, Men</td>\n",
       "      <td>262349.0</td>\n",
       "      <td>Patrick Chila</td>\n",
       "      <td>7.0</td>\n",
       "      <td>49.0</td>\n",
       "      <td>Male</td>\n",
       "      <td>39.0</td>\n",
       "      <td>180.0</td>\n",
       "      <td>73.0</td>\n",
       "      <td>France</td>\n",
       "      <td>2</td>\n",
       "      <td>17.0</td>\n",
       "      <td>9.0</td>\n",
       "      <td>0</td>\n",
       "      <td>0</td>\n",
       "      <td>0.0</td>\n",
       "    </tr>\n",
       "  </tbody>\n",
       "</table>\n",
       "</div>"
      ],
      "text/plain": [
       "   ed_id  ed_year ed_type                  ed_country         sport  \\\n",
       "0     24     1996  Summer               United States        Tennis   \n",
       "1     23     1992  Summer                       Spain  Table Tennis   \n",
       "2     24     1996  Summer               United States  Table Tennis   \n",
       "3     26     2004  Summer                      Greece  Table Tennis   \n",
       "4     53     2008  Summer  People's Republic of China  Table Tennis   \n",
       "\n",
       "          event  result_id            athlete  athl_id  f_rank   sex   age  \\\n",
       "0  Singles, Men    45440.0     Arnaud Boetsch      2.0    17.0  Male  27.0   \n",
       "1  Singles, Men    47135.0  Nicolas Chatelain      6.0    33.0  Male  22.0   \n",
       "2  Singles, Men    47562.0      Patrick Chila      7.0     9.0  Male  27.0   \n",
       "3  Singles, Men    48369.0      Patrick Chila      7.0    17.0  Male  35.0   \n",
       "4  Singles, Men   262349.0      Patrick Chila      7.0    49.0  Male  39.0   \n",
       "\n",
       "   height  weight athl_country  nb_participation  rank_n1  best_rank  medal_n  \\\n",
       "0   183.0    76.0       France                 0      inf        inf        0   \n",
       "1   181.0    70.0       France                 0      inf        inf        0   \n",
       "2   180.0    73.0       France                 0      inf        inf        0   \n",
       "3   180.0    73.0       France                 1      9.0        9.0        0   \n",
       "4   180.0    73.0       France                 2     17.0        9.0        0   \n",
       "\n",
       "   medal_n1  total_medals  \n",
       "0         0           0.0  \n",
       "1         0           0.0  \n",
       "2         0           0.0  \n",
       "3         0           0.0  \n",
       "4         0           0.0  "
      ]
     },
     "execution_count": 49,
     "metadata": {},
     "output_type": "execute_result"
    }
   ],
   "source": [
    "# Afficher le DataFrame mis à jour\n",
    "df_final.head()"
   ]
  },
  {
   "cell_type": "code",
   "execution_count": 50,
   "metadata": {},
   "outputs": [
    {
     "data": {
      "text/plain": [
       "ed_id                0\n",
       "ed_year              0\n",
       "ed_type              0\n",
       "ed_country           0\n",
       "sport                0\n",
       "event                0\n",
       "result_id            0\n",
       "athlete              0\n",
       "athl_id              0\n",
       "f_rank               0\n",
       "sex                  0\n",
       "age                  0\n",
       "height              79\n",
       "weight              79\n",
       "athl_country         0\n",
       "nb_participation     0\n",
       "rank_n1              0\n",
       "best_rank            0\n",
       "medal_n              0\n",
       "medal_n1             0\n",
       "total_medals         0\n",
       "dtype: int64"
      ]
     },
     "execution_count": 50,
     "metadata": {},
     "output_type": "execute_result"
    }
   ],
   "source": [
    "# Calcul du nombre de données manquantes\n",
    "df_final.isna().sum()"
   ]
  },
  {
   "cell_type": "markdown",
   "metadata": {},
   "source": [
    ">>>>Les 79 poids et tailles manquants sont dûs à :<br>\n",
    ">>>>- 39 pour 'Ice Stock Sport' (ndlr: Sport de crosse sur glace) épreuve de 1964 qui n'a pas été reconduite<br>\n",
    ">>>>- 40 pour 'Sport Climbing' (ndlr: Escalade), arrivée aux JO en 2020<br>"
   ]
  },
  {
   "cell_type": "code",
   "execution_count": 51,
   "metadata": {},
   "outputs": [],
   "source": [
    "# Export du df_ML\n",
    "\n",
    "#df_final.to_csv(r'C:\\Users\\capit\\Desktop\\Projet Jedha\\df_final.csv',index=False)\n",
    "df_final.to_csv('df_ML.csv',index=False)"
   ]
  },
  {
   "cell_type": "markdown",
   "metadata": {},
   "source": [
    "================================================================================================================================================================================================="
   ]
  },
  {
   "attachments": {},
   "cell_type": "markdown",
   "metadata": {},
   "source": [
    "Suppression des colonnes (manipulation dans 'Dataiku' !)\n",
    "*   edition \n",
    "*   ed_id #\n",
    "*   ed_city\n",
    "*   ed_noc\n",
    "*   competition_date\n",
    "*   result_id #\n",
    "*   athlete #\n",
    "*   athl_id #\n",
    "*   pos\n",
    "*   IsTeamSport\n",
    "*   born\n",
    "*   b_year\n",
    "*   athl_noc\n"
   ]
  },
  {
   "attachments": {},
   "cell_type": "markdown",
   "metadata": {},
   "source": [
    "Split des années 2020 et 2022 dans 'Dataiku' pour évaluation des modèles"
   ]
  },
  {
   "cell_type": "markdown",
   "metadata": {},
   "source": [
    "================================================================================================================================================================================================="
   ]
  },
  {
   "cell_type": "markdown",
   "metadata": {},
   "source": [
    "================================================================================================================================================================================================="
   ]
  },
  {
   "cell_type": "markdown",
   "metadata": {},
   "source": [
    "### Tests"
   ]
  },
  {
   "cell_type": "code",
   "execution_count": 52,
   "metadata": {},
   "outputs": [
    {
     "data": {
      "text/html": [
       "<div>\n",
       "<style scoped>\n",
       "    .dataframe tbody tr th:only-of-type {\n",
       "        vertical-align: middle;\n",
       "    }\n",
       "\n",
       "    .dataframe tbody tr th {\n",
       "        vertical-align: top;\n",
       "    }\n",
       "\n",
       "    .dataframe thead th {\n",
       "        text-align: right;\n",
       "    }\n",
       "</style>\n",
       "<table border=\"1\" class=\"dataframe\">\n",
       "  <thead>\n",
       "    <tr style=\"text-align: right;\">\n",
       "      <th></th>\n",
       "      <th>ed_id</th>\n",
       "      <th>ed_year</th>\n",
       "      <th>ed_type</th>\n",
       "      <th>ed_country</th>\n",
       "      <th>sport</th>\n",
       "      <th>event</th>\n",
       "      <th>result_id</th>\n",
       "      <th>athlete</th>\n",
       "      <th>athl_id</th>\n",
       "      <th>f_rank</th>\n",
       "      <th>sex</th>\n",
       "      <th>age</th>\n",
       "      <th>height</th>\n",
       "      <th>weight</th>\n",
       "      <th>athl_country</th>\n",
       "      <th>nb_participation</th>\n",
       "      <th>rank_n1</th>\n",
       "      <th>best_rank</th>\n",
       "      <th>medal_n</th>\n",
       "      <th>medal_n1</th>\n",
       "      <th>total_medals</th>\n",
       "    </tr>\n",
       "  </thead>\n",
       "  <tbody>\n",
       "    <tr>\n",
       "      <th>2</th>\n",
       "      <td>24</td>\n",
       "      <td>1996</td>\n",
       "      <td>Summer</td>\n",
       "      <td>United States</td>\n",
       "      <td>Table Tennis</td>\n",
       "      <td>Singles, Men</td>\n",
       "      <td>47562.0</td>\n",
       "      <td>Patrick Chila</td>\n",
       "      <td>7.0</td>\n",
       "      <td>9.0</td>\n",
       "      <td>Male</td>\n",
       "      <td>27.0</td>\n",
       "      <td>180.0</td>\n",
       "      <td>73.0</td>\n",
       "      <td>France</td>\n",
       "      <td>0</td>\n",
       "      <td>inf</td>\n",
       "      <td>inf</td>\n",
       "      <td>0</td>\n",
       "      <td>0</td>\n",
       "      <td>0.0</td>\n",
       "    </tr>\n",
       "    <tr>\n",
       "      <th>3</th>\n",
       "      <td>26</td>\n",
       "      <td>2004</td>\n",
       "      <td>Summer</td>\n",
       "      <td>Greece</td>\n",
       "      <td>Table Tennis</td>\n",
       "      <td>Singles, Men</td>\n",
       "      <td>48369.0</td>\n",
       "      <td>Patrick Chila</td>\n",
       "      <td>7.0</td>\n",
       "      <td>17.0</td>\n",
       "      <td>Male</td>\n",
       "      <td>35.0</td>\n",
       "      <td>180.0</td>\n",
       "      <td>73.0</td>\n",
       "      <td>France</td>\n",
       "      <td>1</td>\n",
       "      <td>9.0</td>\n",
       "      <td>9.0</td>\n",
       "      <td>0</td>\n",
       "      <td>0</td>\n",
       "      <td>0.0</td>\n",
       "    </tr>\n",
       "    <tr>\n",
       "      <th>4</th>\n",
       "      <td>53</td>\n",
       "      <td>2008</td>\n",
       "      <td>Summer</td>\n",
       "      <td>People's Republic of China</td>\n",
       "      <td>Table Tennis</td>\n",
       "      <td>Singles, Men</td>\n",
       "      <td>262349.0</td>\n",
       "      <td>Patrick Chila</td>\n",
       "      <td>7.0</td>\n",
       "      <td>49.0</td>\n",
       "      <td>Male</td>\n",
       "      <td>39.0</td>\n",
       "      <td>180.0</td>\n",
       "      <td>73.0</td>\n",
       "      <td>France</td>\n",
       "      <td>2</td>\n",
       "      <td>17.0</td>\n",
       "      <td>9.0</td>\n",
       "      <td>0</td>\n",
       "      <td>0</td>\n",
       "      <td>0.0</td>\n",
       "    </tr>\n",
       "  </tbody>\n",
       "</table>\n",
       "</div>"
      ],
      "text/plain": [
       "   ed_id  ed_year ed_type                  ed_country         sport  \\\n",
       "2     24     1996  Summer               United States  Table Tennis   \n",
       "3     26     2004  Summer                      Greece  Table Tennis   \n",
       "4     53     2008  Summer  People's Republic of China  Table Tennis   \n",
       "\n",
       "          event  result_id        athlete  athl_id  f_rank   sex   age  \\\n",
       "2  Singles, Men    47562.0  Patrick Chila      7.0     9.0  Male  27.0   \n",
       "3  Singles, Men    48369.0  Patrick Chila      7.0    17.0  Male  35.0   \n",
       "4  Singles, Men   262349.0  Patrick Chila      7.0    49.0  Male  39.0   \n",
       "\n",
       "   height  weight athl_country  nb_participation  rank_n1  best_rank  medal_n  \\\n",
       "2   180.0    73.0       France                 0      inf        inf        0   \n",
       "3   180.0    73.0       France                 1      9.0        9.0        0   \n",
       "4   180.0    73.0       France                 2     17.0        9.0        0   \n",
       "\n",
       "   medal_n1  total_medals  \n",
       "2         0           0.0  \n",
       "3         0           0.0  \n",
       "4         0           0.0  "
      ]
     },
     "execution_count": 52,
     "metadata": {},
     "output_type": "execute_result"
    }
   ],
   "source": [
    "df_final.loc[(df_final['athl_id']==7),:]\n",
    "#df_final.loc[df_final['athl_id'] == 7].sort_values(['event', 'ed_id'])\n",
    "\n",
    "# 93280 = Ian Thorpe\n",
    "# 93860 = Michael Phelps\n",
    "# 112724 = Teddy Riner"
   ]
  }
 ],
 "metadata": {
  "kernelspec": {
   "display_name": "base",
   "language": "python",
   "name": "python3"
  },
  "language_info": {
   "codemirror_mode": {
    "name": "ipython",
    "version": 3
   },
   "file_extension": ".py",
   "mimetype": "text/x-python",
   "name": "python",
   "nbconvert_exporter": "python",
   "pygments_lexer": "ipython3",
   "version": "3.10.9"
  },
  "orig_nbformat": 4
 },
 "nbformat": 4,
 "nbformat_minor": 2
}
